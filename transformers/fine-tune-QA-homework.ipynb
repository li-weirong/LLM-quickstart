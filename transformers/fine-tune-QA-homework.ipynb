{
 "cells": [
  {
   "cell_type": "markdown",
   "metadata": {},
   "source": [
    "# Hugging Face Transformers 微调语言模型-问答任务\n",
    "\n",
    "我们已经学会使用 Pipeline 加载支持问答任务的预训练模型，本教程代码将展示如何微调训练一个支持问答任务的模型。\n",
    "\n",
    "**注意：微调后的模型仍然是通过提取上下文的子串来回答问题的，而不是生成新的文本。**\n",
    "\n",
    "### 模型执行问答效果示例\n",
    "\n",
    "![Widget inference representing the QA task](docs/images/question_answering.png)"
   ]
  },
  {
   "cell_type": "code",
   "execution_count": 1,
   "metadata": {
    "id": "zVvslsfMIrIh"
   },
   "outputs": [],
   "source": [
    "# 根据你使用的模型和GPU资源情况，调整以下关键参数\n",
    "squad_v2 = True\n",
    "model_checkpoint = \"/data/models/llmquickstart/distilbert-base-uncased\"\n",
    "batch_size = 16"
   ]
  },
  {
   "cell_type": "markdown",
   "metadata": {
    "id": "whPRbBNbIrIl"
   },
   "source": [
    "## 下载数据集\n",
    "\n",
    "在本教程中，我们将使用[斯坦福问答数据集(SQuAD）](https://rajpurkar.github.io/SQuAD-explorer/)。\n",
    "\n",
    "### SQuAD 数据集\n",
    "\n",
    "**斯坦福问答数据集(SQuAD)** 是一个阅读理解数据集，由众包工作者在一系列维基百科文章上提出问题组成。每个问题的答案都是相应阅读段落中的文本片段或范围，或者该问题可能无法回答。\n",
    "\n",
    "SQuAD2.0将SQuAD1.1中的10万个问题与由众包工作者对抗性地撰写的5万多个无法回答的问题相结合，使其看起来与可回答的问题类似。要在SQuAD2.0上表现良好，系统不仅必须在可能时回答问题，还必须确定段落中没有支持任何答案，并放弃回答。"
   ]
  },
  {
   "cell_type": "code",
   "execution_count": 2,
   "metadata": {
    "id": "IreSlFmlIrIm"
   },
   "outputs": [
    {
     "name": "stderr",
     "output_type": "stream",
     "text": [
      "/home/ubuntu/anaconda3/envs/liweirong-quickstart/lib/python3.10/site-packages/tqdm/auto.py:21: TqdmWarning: IProgress not found. Please update jupyter and ipywidgets. See https://ipywidgets.readthedocs.io/en/stable/user_install.html\n",
      "  from .autonotebook import tqdm as notebook_tqdm\n"
     ]
    }
   ],
   "source": [
    "from datasets import load_dataset"
   ]
  },
  {
   "cell_type": "code",
   "execution_count": 4,
   "metadata": {
    "colab": {
     "base_uri": "https://localhost:8080/",
     "height": 270,
     "referenced_widgets": [
      "69caab03d6264fef9fc5649bffff5e20",
      "3f74532faa86412293d90d3952f38c4a",
      "50615aa59c7247c4804ca5cbc7945bd7",
      "fe962391292a413ca55dc932c4279fa7",
      "299f4b4c07654e53a25f8192bd1d7bbd",
      "ad04ed1038154081bbb0c1444784dcc2",
      "7c667ad22b5740d5a6319f1b1e3a8097",
      "46c2b043c0f84806978784a45a4e203b",
      "80e2943be35f46eeb24c8ab13faa6578",
      "de5956b5008d4fdba807bae57509c393",
      "931db1f7a42f4b46b7ff8c2e1262b994",
      "6c1db72efff5476e842c1386fadbbdba",
      "ccd2f37647c547abb4c719b75a26f2de",
      "d30a66df5c0145e79693e09789d96b81",
      "5fa26fc336274073abbd1d550542ee33",
      "2b34de08115d49d285def9269a53f484",
      "d426be871b424affb455aeb7db5e822e",
      "160bf88485f44f5cb6eaeecba5e0901f",
      "745c0d47d672477b9bb0dae77b926364",
      "d22ab78269cd4ccfbcf70c707057c31b",
      "d298eb19eeff453cba51c2804629d3f4",
      "a7204ade36314c86907c562e0a2158b8",
      "e35d42b2d352498ca3fc8530393786b2",
      "75103f83538d44abada79b51a1cec09e",
      "f6253931d90543e9b5fd0bb2d615f73a",
      "051aa783ff9e47e28d1f9584043815f5",
      "0984b2a14115454bbb009df71c1cf36f",
      "8ab9dfce29854049912178941ef1b289",
      "c9de740e007141958545e269372780a4",
      "cbea68b25d6d4ba09b2ce0f27b1726d5",
      "5781fc45cf8d486cb06ed68853b2c644",
      "d2a92143a08a4951b55bab9bc0a6d0d3",
      "a14c3e40e5254d61ba146f6ec88eae25",
      "c4ffe6f624ce4e978a0d9b864544941a",
      "1aca01c1d8c940dfadd3e7144bb35718",
      "9fbbaae50e6743f2aa19342152398186",
      "fea27ca6c9504fc896181bc1ff5730e5",
      "940d00556cb849b3a689d56e274041c2",
      "5cdf9ed939fb42d4bf77301c80b8afca",
      "94b39ccfef0b4b08bf2fb61bb0a657c1",
      "9a55087c85b74ea08b3e952ac1d73cbe",
      "2361ab124daf47cc885ff61f2899b2af",
      "1a65887eb37747ddb75dc4a40f7285f2",
      "3c946e2260704e6c98593136bd32d921",
      "50d325cdb9844f62a9ecc98e768cb5af",
      "aa781f0cfe454e9da5b53b93e9baabd8",
      "6bb68d3887ef43809eb23feb467f9723",
      "7e29a8b952cf4f4ea42833c8bf55342f",
      "dd5997d01d8947e4b1c211433969b89b",
      "2ace4dc78e2f4f1492a181bcd63304e7",
      "bbee008c2791443d8610371d1f16b62b",
      "31b1c8a2e3334b72b45b083688c1a20c",
      "7fb7c36adc624f7dbbcb4a831c1e4f63",
      "0b7c8f1939074794b3d9221244b1344d",
      "a71908883b064e1fbdddb547a8c41743",
      "2f5223f26c8541fc87e91d2205c39995"
     ]
    },
    "id": "s_AY1ATSIrIq",
    "outputId": "fd0578d1-8895-443d-b56f-5908de9f1b6b"
   },
   "outputs": [
    {
     "name": "stderr",
     "output_type": "stream",
     "text": [
      "Downloading data files:   0%|          | 0/2 [00:00<?, ?it/s]\n",
      "Downloading data:   0%|          | 0.00/9.55M [00:00<?, ?B/s]\u001b[A\n",
      "Downloading data:   1%|          | 62.5k/9.55M [00:00<00:38, 246kB/s]\u001b[A\n",
      "Downloading data:   2%|▏         | 218k/9.55M [00:00<00:25, 365kB/s] \u001b[A\n",
      "Downloading data:   4%|▍         | 365k/9.55M [00:00<00:17, 525kB/s]\u001b[A\n",
      "Downloading data:   4%|▍         | 426k/9.55M [00:01<00:25, 363kB/s]\u001b[A\n",
      "Downloading data:   5%|▌         | 489k/9.55M [00:01<00:26, 337kB/s]\u001b[A\n",
      "Downloading data:   7%|▋         | 622k/9.55M [00:01<00:19, 451kB/s]\u001b[A\n",
      "Downloading data:   7%|▋         | 701k/9.55M [00:01<00:23, 373kB/s]\u001b[A\n",
      "Downloading data:   9%|▉         | 855k/9.55M [00:02<00:21, 411kB/s]\u001b[A\n",
      "Downloading data:  10%|▉         | 931k/9.55M [00:02<00:31, 275kB/s]\u001b[A\n",
      "Downloading data:  10%|█         | 1.00M/9.55M [00:03<00:47, 178kB/s]\u001b[A\n",
      "Downloading data:  11%|█         | 1.07M/9.55M [00:04<00:57, 148kB/s]\u001b[A\n",
      "Downloading data:  12%|█▏        | 1.14M/9.55M [00:05<01:15, 111kB/s]\u001b[A\n",
      "Downloading data:  13%|█▎        | 1.21M/9.55M [00:06<01:31, 90.7kB/s]\u001b[A\n",
      "Downloading data:  13%|█▎        | 1.27M/9.55M [00:07<01:31, 90.8kB/s]\u001b[A\n",
      "Downloading data:  14%|█▍        | 1.33M/9.55M [00:07<01:34, 86.9kB/s]\u001b[A\n",
      "Downloading data:  15%|█▍        | 1.39M/9.55M [00:08<01:30, 90.0kB/s]\u001b[A\n",
      "Downloading data:  15%|█▌        | 1.45M/9.55M [00:09<01:25, 95.0kB/s]\u001b[A\n",
      "Downloading data:  16%|█▌        | 1.51M/9.55M [00:09<01:31, 87.8kB/s]\u001b[A\n",
      "Downloading data:  16%|█▋        | 1.57M/9.55M [00:10<01:22, 96.1kB/s]\u001b[A\n",
      "Downloading data:  17%|█▋        | 1.64M/9.55M [00:11<01:18, 101kB/s] \u001b[A\n",
      "Downloading data:  18%|█▊        | 1.72M/9.55M [00:12<01:37, 80.3kB/s]\u001b[A\n",
      "Downloading data:  19%|█▊        | 1.78M/9.55M [00:12<01:30, 85.8kB/s]\u001b[A\n",
      "Downloading data:  19%|█▉        | 1.85M/9.55M [00:13<01:13, 105kB/s] \u001b[A\n",
      "Downloading data:  20%|██        | 1.93M/9.55M [00:14<01:17, 98.9kB/s]\u001b[A\n",
      "Downloading data:  21%|██        | 2.01M/9.55M [00:14<01:13, 103kB/s] \u001b[A\n",
      "Downloading data:  22%|██▏       | 2.07M/9.55M [00:15<01:20, 93.4kB/s]\u001b[A\n",
      "Downloading data:  22%|██▏       | 2.14M/9.55M [00:16<01:10, 106kB/s] \u001b[A\n",
      "Downloading data:  23%|██▎       | 2.21M/9.55M [00:16<01:03, 116kB/s]\u001b[A\n",
      "Downloading data:  24%|██▍       | 2.28M/9.55M [00:17<01:01, 118kB/s]\u001b[A\n",
      "Downloading data:  25%|██▍       | 2.35M/9.55M [00:17<01:01, 117kB/s]\u001b[A\n",
      "Downloading data:  26%|██▌       | 2.44M/9.55M [00:18<01:06, 107kB/s]\u001b[A\n",
      "Downloading data:  26%|██▋       | 2.52M/9.55M [00:19<01:07, 104kB/s]\u001b[A\n",
      "Downloading data:  27%|██▋       | 2.59M/9.55M [00:20<01:09, 100kB/s]\u001b[A\n",
      "Downloading data:  28%|██▊       | 2.66M/9.55M [00:20<01:03, 108kB/s]\u001b[A\n",
      "Downloading data:  29%|██▉       | 2.75M/9.55M [00:21<00:54, 126kB/s]\u001b[A\n",
      "Downloading data:  30%|██▉       | 2.84M/9.55M [00:22<00:51, 130kB/s]\u001b[A\n",
      "Downloading data:  31%|███       | 2.93M/9.55M [00:22<00:48, 137kB/s]\u001b[A\n",
      "Downloading data:  31%|███▏      | 3.01M/9.55M [00:24<01:09, 94.1kB/s]\u001b[A\n",
      "Downloading data:  32%|███▏      | 3.08M/9.55M [00:24<01:09, 93.3kB/s]\u001b[A\n",
      "Downloading data:  33%|███▎      | 3.14M/9.55M [00:25<01:06, 96.1kB/s]\u001b[A\n",
      "Downloading data:  34%|███▍      | 3.23M/9.55M [00:26<00:59, 107kB/s] \u001b[A\n",
      "Downloading data:  35%|███▍      | 3.31M/9.55M [00:26<00:55, 113kB/s]\u001b[A\n",
      "Downloading data:  36%|███▌      | 3.41M/9.55M [00:27<00:52, 116kB/s]\u001b[A\n",
      "Downloading data:  36%|███▋      | 3.48M/9.55M [00:28<00:52, 116kB/s]\u001b[A\n",
      "Downloading data:  37%|███▋      | 3.54M/9.55M [00:29<01:06, 89.8kB/s]\u001b[A\n",
      "Downloading data:  38%|███▊      | 3.59M/9.55M [00:30<01:10, 84.1kB/s]\u001b[A\n",
      "Downloading data:  38%|███▊      | 3.66M/9.55M [00:30<00:59, 98.4kB/s]\u001b[A\n",
      "Downloading data:  39%|███▉      | 3.73M/9.55M [00:31<01:13, 79.6kB/s]\u001b[A\n",
      "Downloading data:  40%|███▉      | 3.80M/9.55M [00:32<01:04, 88.8kB/s]\u001b[A\n",
      "Downloading data:  41%|████      | 3.88M/9.55M [00:32<00:56, 101kB/s] \u001b[A\n",
      "Downloading data:  42%|████▏     | 3.97M/9.55M [00:33<00:55, 101kB/s]\u001b[A\n",
      "Downloading data:  42%|████▏     | 4.03M/9.55M [00:34<00:56, 97.8kB/s]\u001b[A\n",
      "Downloading data:  43%|████▎     | 4.10M/9.55M [00:35<01:01, 88.7kB/s]\u001b[A\n",
      "Downloading data:  44%|████▍     | 4.19M/9.55M [00:36<00:53, 99.7kB/s]\u001b[A\n",
      "Downloading data:  45%|████▍     | 4.29M/9.55M [00:36<00:47, 111kB/s] \u001b[A\n",
      "Downloading data:  46%|████▌     | 4.35M/9.55M [00:37<00:49, 104kB/s]\u001b[A\n",
      "Downloading data:  46%|████▌     | 4.41M/9.55M [00:38<00:48, 107kB/s]\u001b[A\n",
      "Downloading data:  47%|████▋     | 4.47M/9.55M [00:39<01:01, 82.5kB/s]\u001b[A\n",
      "Downloading data:  47%|████▋     | 4.53M/9.55M [00:39<00:54, 92.5kB/s]\u001b[A\n",
      "Downloading data:  48%|████▊     | 4.62M/9.55M [00:40<00:53, 92.9kB/s]\u001b[A\n",
      "Downloading data:  49%|████▉     | 4.69M/9.55M [00:41<00:51, 94.5kB/s]\u001b[A\n",
      "Downloading data:  50%|████▉     | 4.76M/9.55M [00:42<00:53, 90.3kB/s]\u001b[A\n",
      "Downloading data:  51%|█████     | 4.85M/9.55M [00:43<00:51, 92.0kB/s]\u001b[A\n",
      "Downloading data:  51%|█████▏    | 4.91M/9.55M [00:43<00:49, 93.2kB/s]\u001b[A\n",
      "Downloading data:  52%|█████▏    | 4.97M/9.55M [00:44<00:43, 104kB/s] \u001b[A\n",
      "Downloading data:  53%|█████▎    | 5.04M/9.55M [00:44<00:34, 129kB/s]\u001b[A\n",
      "Downloading data:  54%|█████▍    | 5.14M/9.55M [00:44<00:27, 161kB/s]\u001b[A\n",
      "Downloading data:  55%|█████▍    | 5.22M/9.55M [00:45<00:23, 183kB/s]\u001b[A\n",
      "Downloading data:  55%|█████▌    | 5.30M/9.55M [00:45<00:24, 176kB/s]\u001b[A\n",
      "Downloading data:  56%|█████▌    | 5.37M/9.55M [00:46<00:25, 161kB/s]\u001b[A\n",
      "Downloading data:  57%|█████▋    | 5.43M/9.55M [00:46<00:30, 136kB/s]\u001b[A\n",
      "Downloading data:  58%|█████▊    | 5.50M/9.55M [00:47<00:29, 138kB/s]\u001b[A\n",
      "Downloading data:  58%|█████▊    | 5.58M/9.55M [00:47<00:27, 146kB/s]\u001b[A\n",
      "Downloading data:  59%|█████▉    | 5.67M/9.55M [00:48<00:28, 136kB/s]\u001b[A\n",
      "Downloading data:  60%|██████    | 5.75M/9.55M [00:49<00:29, 130kB/s]\u001b[A\n",
      "Downloading data:  61%|██████    | 5.82M/9.55M [00:49<00:31, 117kB/s]\u001b[A\n",
      "Downloading data:  62%|██████▏   | 5.88M/9.55M [00:50<00:32, 113kB/s]\u001b[A\n",
      "Downloading data:  62%|██████▏   | 5.96M/9.55M [00:51<00:33, 108kB/s]\u001b[A\n",
      "Downloading data:  63%|██████▎   | 6.05M/9.55M [00:51<00:27, 126kB/s]\u001b[A\n",
      "Downloading data:  64%|██████▍   | 6.14M/9.55M [00:52<00:24, 141kB/s]\u001b[A\n",
      "Downloading data:  65%|██████▌   | 6.21M/9.55M [00:52<00:25, 130kB/s]\u001b[A\n",
      "Downloading data:  66%|██████▌   | 6.28M/9.55M [00:53<00:25, 130kB/s]\u001b[A\n",
      "Downloading data:  66%|██████▋   | 6.35M/9.55M [00:53<00:23, 137kB/s]\u001b[A\n",
      "Downloading data:  67%|██████▋   | 6.43M/9.55M [00:54<00:23, 130kB/s]\u001b[A\n",
      "Downloading data:  68%|██████▊   | 6.50M/9.55M [00:55<00:28, 106kB/s]\u001b[A\n",
      "Downloading data:  69%|██████▉   | 6.58M/9.55M [00:56<00:24, 119kB/s]\u001b[A\n",
      "Downloading data:  70%|██████▉   | 6.66M/9.55M [00:56<00:24, 120kB/s]\u001b[A\n",
      "Downloading data:  70%|███████   | 6.73M/9.55M [00:57<00:26, 107kB/s]\u001b[A\n",
      "Downloading data:  71%|███████   | 6.79M/9.55M [00:58<00:24, 112kB/s]\u001b[A\n",
      "Downloading data:  72%|███████▏  | 6.87M/9.55M [01:00<00:47, 56.0kB/s]\u001b[A\n",
      "Downloading data:  73%|███████▎  | 6.95M/9.55M [01:01<00:37, 68.6kB/s]\u001b[A\n",
      "Downloading data:  73%|███████▎  | 7.02M/9.55M [01:02<00:38, 65.1kB/s]\u001b[A\n",
      "Downloading data:  74%|███████▍  | 7.09M/9.55M [01:03<00:35, 68.7kB/s]\u001b[A\n",
      "Downloading data:  75%|███████▌  | 7.17M/9.55M [01:04<00:32, 72.7kB/s]\u001b[A\n",
      "Downloading data:  76%|███████▌  | 7.23M/9.55M [01:05<00:28, 82.6kB/s]\u001b[A\n",
      "Downloading data:  76%|███████▋  | 7.30M/9.55M [01:06<00:30, 74.7kB/s]\u001b[A\n",
      "Downloading data:  77%|███████▋  | 7.37M/9.55M [01:06<00:24, 90.2kB/s]\u001b[A\n",
      "Downloading data:  78%|███████▊  | 7.44M/9.55M [01:07<00:21, 99.7kB/s]\u001b[A\n",
      "Downloading data:  79%|███████▊  | 7.50M/9.55M [01:08<00:23, 86.0kB/s]\u001b[A\n",
      "Downloading data:  79%|███████▉  | 7.57M/9.55M [01:08<00:23, 83.5kB/s]\u001b[A\n",
      "Downloading data:  80%|███████▉  | 7.64M/9.55M [01:09<00:23, 80.8kB/s]\u001b[A\n",
      "Downloading data:  81%|████████  | 7.71M/9.55M [01:10<00:20, 91.6kB/s]\u001b[A\n",
      "Downloading data:  82%|████████▏ | 7.79M/9.55M [01:11<00:20, 87.9kB/s]\u001b[A\n",
      "Downloading data:  82%|████████▏ | 7.87M/9.55M [01:12<00:17, 95.3kB/s]\u001b[A\n",
      "Downloading data:  83%|████████▎ | 7.93M/9.55M [01:12<00:15, 104kB/s] \u001b[A\n",
      "Downloading data:  84%|████████▎ | 8.00M/9.55M [01:13<00:15, 101kB/s]\u001b[A\n",
      "Downloading data:  85%|████████▍ | 8.07M/9.55M [01:13<00:13, 107kB/s]\u001b[A\n",
      "Downloading data:  85%|████████▌ | 8.16M/9.55M [01:14<00:12, 114kB/s]\u001b[A\n",
      "Downloading data:  86%|████████▋ | 8.25M/9.55M [01:15<00:12, 104kB/s]\u001b[A\n",
      "Downloading data:  87%|████████▋ | 8.33M/9.55M [01:16<00:10, 111kB/s]\u001b[A\n",
      "Downloading data:  88%|████████▊ | 8.40M/9.55M [01:17<00:12, 95.0kB/s]\u001b[A\n",
      "Downloading data:  89%|████████▊ | 8.46M/9.55M [01:17<00:10, 104kB/s] \u001b[A\n",
      "Downloading data:  89%|████████▉ | 8.53M/9.55M [01:18<00:09, 112kB/s]\u001b[A\n",
      "Downloading data:  90%|████████▉ | 8.59M/9.55M [01:19<00:13, 72.6kB/s]\u001b[A\n",
      "Downloading data:  91%|█████████ | 8.65M/9.55M [01:20<00:12, 72.6kB/s]\u001b[A\n",
      "Downloading data:  91%|█████████ | 8.71M/9.55M [01:21<00:10, 79.6kB/s]\u001b[A\n",
      "Downloading data:  92%|█████████▏| 8.79M/9.55M [01:21<00:07, 97.7kB/s]\u001b[A\n",
      "Downloading data:  93%|█████████▎| 8.85M/9.55M [01:21<00:06, 108kB/s] \u001b[A\n",
      "Downloading data:  93%|█████████▎| 8.92M/9.55M [01:22<00:06, 93.4kB/s]\u001b[A\n",
      "Downloading data:  94%|█████████▍| 8.99M/9.55M [01:23<00:06, 92.9kB/s]\u001b[A\n",
      "Downloading data:  95%|█████████▍| 9.06M/9.55M [01:24<00:04, 109kB/s] \u001b[A\n",
      "Downloading data:  96%|█████████▌| 9.13M/9.55M [01:24<00:03, 120kB/s]\u001b[A\n",
      "Downloading data:  96%|█████████▋| 9.20M/9.55M [01:24<00:02, 130kB/s]\u001b[A\n",
      "Downloading data:  97%|█████████▋| 9.27M/9.55M [01:25<00:02, 136kB/s]\u001b[A\n",
      "Downloading data:  98%|█████████▊| 9.34M/9.55M [01:26<00:02, 101kB/s]\u001b[A\n",
      "Downloading data:  99%|█████████▊| 9.41M/9.55M [01:26<00:01, 126kB/s]\u001b[A\n",
      "Downloading data:  99%|█████████▉| 9.49M/9.55M [01:27<00:00, 101kB/s]\u001b[A\n",
      "Downloading data: 9.55MB [01:28, 109kB/s]                            \u001b[A\n",
      "Downloading data: 9.61MB [01:28, 119kB/s]\u001b[A\n",
      "Downloading data: 9.67MB [01:28, 142kB/s]\u001b[A\n",
      "Downloading data: 9.76MB [01:29, 154kB/s]\u001b[A\n",
      "Downloading data: 9.84MB [01:29, 149kB/s]\u001b[A\n",
      "Downloading data: 9.92MB [01:30, 123kB/s]\u001b[A\n",
      "Downloading data: 9.99MB [01:31, 120kB/s]\u001b[A\n",
      "Downloading data: 10.1MB [01:32, 104kB/s]\u001b[A\n",
      "Downloading data: 10.1MB [01:32, 117kB/s]\u001b[A\n",
      "Downloading data: 10.2MB [01:33, 123kB/s]\u001b[A\n",
      "Downloading data: 10.3MB [01:34, 113kB/s]\u001b[A\n",
      "Downloading data: 10.4MB [01:34, 122kB/s]\u001b[A\n",
      "Downloading data: 10.4MB [01:35, 110kB/s]\u001b[A\n",
      "Downloading data: 10.5MB [01:36, 115kB/s]\u001b[A\n",
      "Downloading data: 10.6MB [01:37, 112kB/s]\u001b[A\n",
      "Downloading data: 10.7MB [01:37, 114kB/s]\u001b[A\n",
      "Downloading data: 10.8MB [01:38, 115kB/s]\u001b[A\n",
      "Downloading data: 10.8MB [01:39, 110kB/s]\u001b[A\n",
      "Downloading data: 10.9MB [01:39, 102kB/s]\u001b[A\n",
      "Downloading data: 11.0MB [01:40, 121kB/s]\u001b[A\n",
      "Downloading data: 11.1MB [01:41, 112kB/s]\u001b[A\n",
      "Downloading data: 11.2MB [01:42, 103kB/s]\u001b[A\n",
      "Downloading data: 11.2MB [01:42, 115kB/s]\u001b[A\n",
      "Downloading data: 11.3MB [01:42, 132kB/s]\u001b[A\n",
      "Downloading data: 11.4MB [01:43, 143kB/s]\u001b[A\n",
      "Downloading data: 11.5MB [01:43, 158kB/s]\u001b[A\n",
      "Downloading data: 11.5MB [01:44, 146kB/s]\u001b[A\n",
      "Downloading data: 11.6MB [01:44, 154kB/s]\u001b[A\n",
      "Downloading data: 11.7MB [01:45, 144kB/s]\u001b[A\n",
      "Downloading data: 11.8MB [01:45, 159kB/s]\u001b[A\n",
      "Downloading data: 11.8MB [01:46, 132kB/s]\u001b[A\n",
      "Downloading data: 11.9MB [01:46, 149kB/s]\u001b[A\n",
      "Downloading data: 12.0MB [01:48, 107kB/s]\u001b[A\n",
      "Downloading data: 12.1MB [01:48, 111kB/s]\u001b[A\n",
      "Downloading data: 12.1MB [01:50, 74.5kB/s]\u001b[A\n",
      "Downloading data: 12.2MB [01:51, 79.5kB/s]\u001b[A\n",
      "Downloading data: 12.3MB [01:51, 85.8kB/s]\u001b[A\n",
      "Downloading data: 12.3MB [01:52, 99.9kB/s]\u001b[A\n",
      "Downloading data: 12.4MB [01:52, 97.6kB/s]\u001b[A\n",
      "Downloading data: 12.5MB [01:53, 101kB/s] \u001b[A\n",
      "Downloading data: 12.5MB [01:53, 104kB/s]\u001b[A\n",
      "Downloading data: 12.6MB [01:55, 76.3kB/s]\u001b[A\n",
      "Downloading data: 12.7MB [01:57, 60.4kB/s]\u001b[A\n",
      "Downloading data: 12.7MB [01:57, 65.3kB/s]\u001b[A\n",
      "Downloading data: 12.8MB [01:58, 76.0kB/s]\u001b[A\n",
      "Downloading data: 12.9MB [01:59, 76.2kB/s]\u001b[A\n",
      "Downloading data: 12.9MB [01:59, 83.2kB/s]\u001b[A\n",
      "Downloading data: 13.0MB [02:00, 92.0kB/s]\u001b[A\n",
      "Downloading data: 13.1MB [02:01, 87.8kB/s]\u001b[A\n",
      "Downloading data: 13.1MB [02:02, 73.0kB/s]\u001b[A\n",
      "Downloading data: 13.2MB [02:03, 71.6kB/s]\u001b[A\n",
      "Downloading data: 13.3MB [02:04, 74.8kB/s]\u001b[A\n",
      "Downloading data: 13.3MB [02:04, 86.4kB/s]\u001b[A\n",
      "Downloading data: 13.4MB [02:05, 91.3kB/s]\u001b[A\n",
      "Downloading data: 13.5MB [02:06, 80.1kB/s]\u001b[A\n",
      "Downloading data: 13.6MB [02:07, 83.7kB/s]\u001b[A\n",
      "Downloading data: 13.7MB [02:09, 59.4kB/s]\u001b[A\n",
      "Downloading data: 13.7MB [02:11, 59.9kB/s]\u001b[A\n",
      "Downloading data: 13.8MB [02:12, 56.1kB/s]\u001b[A\n",
      "Downloading data: 13.9MB [02:13, 67.3kB/s]\u001b[A\n",
      "Downloading data: 14.0MB [02:13, 80.1kB/s]\u001b[A\n",
      "Downloading data: 14.0MB [02:14, 95.6kB/s]\u001b[A\n",
      "Downloading data: 14.1MB [02:14, 108kB/s] \u001b[A\n",
      "Downloading data: 14.2MB [02:15, 119kB/s]\u001b[A\n",
      "Downloading data: 14.3MB [02:15, 124kB/s]\u001b[A\n",
      "Downloading data: 14.3MB [02:17, 87.6kB/s]\u001b[A\n",
      "Downloading data: 14.4MB [02:18, 81.9kB/s]\u001b[A\n",
      "Downloading data: 14.5MB [02:18, 82.9kB/s]\u001b[A\n",
      "Downloading data: 14.5MB [02:19, 85.4kB/s]\u001b[A\n",
      "Downloading data: 14.6MB [02:20, 91.1kB/s]\u001b[A\n",
      "Downloading data: 14.7MB [02:21, 92.9kB/s]\u001b[A\n",
      "Downloading data: 14.7MB [02:21, 95.8kB/s]\u001b[A\n",
      "Downloading data: 14.8MB [02:22, 101kB/s] \u001b[A\n",
      "Downloading data: 14.9MB [02:23, 94.2kB/s]\u001b[A\n",
      "Downloading data: 15.0MB [02:24, 91.0kB/s]\u001b[A\n",
      "Downloading data: 15.0MB [02:24, 98.4kB/s]\u001b[A\n",
      "Downloading data: 15.1MB [02:25, 102kB/s] \u001b[A\n",
      "Downloading data: 15.2MB [02:26, 116kB/s]\u001b[A\n",
      "Downloading data: 15.3MB [02:27, 87.7kB/s]\u001b[A\n",
      "Downloading data: 15.4MB [02:28, 83.2kB/s]\u001b[A\n",
      "Downloading data: 15.4MB [02:29, 89.9kB/s]\u001b[A\n",
      "Downloading data: 15.5MB [02:30, 91.0kB/s]\u001b[A\n",
      "Downloading data: 15.6MB [02:30, 106kB/s] \u001b[A\n",
      "Downloading data: 15.7MB [02:31, 111kB/s]\u001b[A\n",
      "Downloading data: 15.8MB [02:32, 91.3kB/s]\u001b[A\n",
      "Downloading data: 15.8MB [02:33, 91.4kB/s]\u001b[A\n",
      "Downloading data: 15.9MB [02:34, 83.7kB/s]\u001b[A\n",
      "Downloading data: 16.0MB [02:35, 77.8kB/s]\u001b[A\n",
      "Downloading data: 16.0MB [02:36, 70.1kB/s]\u001b[A\n",
      "Downloading data: 16.1MB [02:38, 51.1kB/s]\u001b[A\n",
      "Downloading data: 16.2MB [02:38, 65.0kB/s]\u001b[A\n",
      "Downloading data: 16.2MB [02:39, 68.5kB/s]\u001b[A\n",
      "Downloading data: 16.3MB [02:40, 63.6kB/s]\u001b[A\n",
      "Downloading data: 16.4MB [02:41, 66.1kB/s]\u001b[A\n",
      "Downloading data: 16.4MB [02:42, 74.7kB/s]\u001b[A\n",
      "Downloading data: 16.5MB [02:42, 87.6kB/s]\u001b[A\n",
      "Downloading data: 16.6MB [02:43, 94.4kB/s]\u001b[A\n",
      "Downloading data: 16.7MB [02:45, 72.0kB/s]\u001b[A\n",
      "Downloading data: 16.7MB [02:46, 77.8kB/s]\u001b[A\n",
      "Downloading data: 16.8MB [02:47, 71.8kB/s]\u001b[A\n",
      "Downloading data: 16.9MB [02:48, 75.0kB/s]\u001b[A\n",
      "Downloading data: 16.9MB [02:49, 63.6kB/s]\u001b[A\n",
      "Downloading data: 17.0MB [02:50, 54.5kB/s]\u001b[A\n",
      "Downloading data: 17.1MB [02:52, 51.1kB/s]\u001b[A\n",
      "Downloading data: 17.1MB [02:53, 59.7kB/s]\u001b[A\n",
      "Downloading data: 17.2MB [02:54, 67.0kB/s]\u001b[A\n",
      "Downloading data: 17.3MB [02:55, 64.0kB/s]\u001b[A\n",
      "Downloading data: 17.3MB [02:55, 73.0kB/s]\u001b[A\n",
      "Downloading data: 17.4MB [02:56, 86.2kB/s]\u001b[A\n",
      "Downloading data: 17.5MB [02:56, 94.6kB/s]\u001b[A\n",
      "Downloading data: 17.6MB [02:57, 91.4kB/s]\u001b[A\n",
      "Downloading data: 17.6MB [02:58, 103kB/s] \u001b[A\n",
      "Downloading data: 17.7MB [02:59, 96.3kB/s]\u001b[A\n",
      "Downloading data: 17.8MB [03:00, 88.9kB/s]\u001b[A\n",
      "Downloading data: 17.8MB [03:00, 102kB/s] \u001b[A\n",
      "Downloading data: 17.9MB [03:00, 111kB/s]\u001b[A\n",
      "Downloading data: 18.0MB [03:01, 98.9kB/s]\u001b[A\n",
      "Downloading data: 18.0MB [03:03, 73.7kB/s]\u001b[A\n",
      "Downloading data: 18.1MB [03:03, 81.0kB/s]\u001b[A\n",
      "Downloading data: 18.2MB [03:04, 86.0kB/s]\u001b[A\n",
      "Downloading data: 18.2MB [03:05, 71.4kB/s]\u001b[A\n",
      "Downloading data: 18.3MB [03:06, 76.9kB/s]\u001b[A\n",
      "Downloading data: 18.4MB [03:06, 92.0kB/s]\u001b[A\n",
      "Downloading data: 18.5MB [03:07, 92.3kB/s]\u001b[A\n",
      "Downloading data: 18.5MB [03:08, 100kB/s] \u001b[A\n",
      "Downloading data: 18.6MB [03:08, 113kB/s]\u001b[A\n",
      "Downloading data: 18.7MB [03:09, 117kB/s]\u001b[A\n",
      "Downloading data: 18.7MB [03:10, 95.9kB/s]\u001b[A\n",
      "Downloading data: 18.8MB [03:11, 87.6kB/s]\u001b[A\n",
      "Downloading data: 18.9MB [03:12, 82.1kB/s]\u001b[A\n",
      "Downloading data: 19.0MB [03:14, 64.7kB/s]\u001b[A\n",
      "Downloading data: 19.1MB [03:15, 66.4kB/s]\u001b[A\n",
      "Downloading data: 19.1MB [03:16, 68.4kB/s]\u001b[A\n",
      "Downloading data: 19.2MB [03:17, 66.5kB/s]\u001b[A\n",
      "Downloading data: 19.2MB [03:18, 66.1kB/s]\u001b[A\n",
      "Downloading data: 19.3MB [03:18, 74.8kB/s]\u001b[A\n",
      "Downloading data: 19.4MB [03:19, 88.1kB/s]\u001b[A\n",
      "Downloading data: 19.4MB [03:19, 99.6kB/s]\u001b[A\n",
      "Downloading data: 19.5MB [03:19, 116kB/s] \u001b[A\n",
      "Downloading data: 19.6MB [03:20, 141kB/s]\u001b[A\n",
      "Downloading data: 19.6MB [03:20, 136kB/s]\u001b[A\n",
      "Downloading data: 19.7MB [03:21, 126kB/s]\u001b[A\n",
      "Downloading data: 19.8MB [03:22, 126kB/s]\u001b[A\n",
      "Downloading data: 19.9MB [03:24, 62.1kB/s]\u001b[A\n",
      "Downloading data: 19.9MB [03:25, 69.7kB/s]\u001b[A\n",
      "Downloading data: 20.0MB [03:26, 75.0kB/s]\u001b[A\n",
      "Downloading data: 20.1MB [03:26, 83.3kB/s]\u001b[A\n",
      "Downloading data: 20.1MB [03:27, 91.2kB/s]\u001b[A\n",
      "Downloading data: 20.2MB [03:28, 102kB/s] \u001b[A\n",
      "Downloading data: 20.3MB [03:28, 101kB/s]\u001b[A\n",
      "Downloading data: 20.4MB [03:29, 104kB/s]\u001b[A\n",
      "Downloading data: 20.5MB [03:30, 102kB/s]\u001b[A\n",
      "Downloading data: 20.5MB [03:31, 106kB/s]\u001b[A\n",
      "Downloading data: 20.6MB [03:31, 111kB/s]\u001b[A\n",
      "Downloading data: 20.7MB [03:32, 92.3kB/s]\u001b[A\n",
      "Downloading data: 20.8MB [03:33, 103kB/s] \u001b[A\n",
      "Downloading data: 20.9MB [03:33, 114kB/s]\u001b[A\n",
      "Downloading data: 20.9MB [03:34, 131kB/s]\u001b[A\n",
      "Downloading data: 21.0MB [03:34, 142kB/s]\u001b[A\n",
      "Downloading data: 21.1MB [03:35, 130kB/s]\u001b[A\n",
      "Downloading data: 21.2MB [03:40, 40.7kB/s]\u001b[A\n",
      "Downloading data: 21.2MB [03:40, 48.5kB/s]\u001b[A\n",
      "Downloading data: 21.3MB [03:41, 57.0kB/s]\u001b[A\n",
      "Downloading data: 21.4MB [03:41, 72.9kB/s]\u001b[A\n",
      "Downloading data: 21.4MB [03:42, 94.2kB/s]\u001b[A\n",
      "Downloading data: 21.5MB [03:42, 108kB/s] \u001b[A\n",
      "Downloading data: 21.6MB [03:42, 124kB/s]\u001b[A\n",
      "Downloading data: 21.6MB [03:43, 116kB/s]\u001b[A\n",
      "Downloading data: 21.7MB [03:44, 114kB/s]\u001b[A\n",
      "Downloading data: 21.8MB [03:44, 109kB/s]\u001b[A\n",
      "Downloading data: 21.8MB [03:45, 103kB/s]\u001b[A\n",
      "Downloading data: 21.9MB [03:46, 108kB/s]\u001b[A\n",
      "Downloading data: 22.0MB [03:46, 120kB/s]\u001b[A\n",
      "Downloading data: 22.1MB [03:47, 134kB/s]\u001b[A\n",
      "Downloading data: 22.2MB [03:48, 117kB/s]\u001b[A\n",
      "Downloading data: 22.2MB [03:49, 85.2kB/s]\u001b[A\n",
      "Downloading data: 22.3MB [03:50, 76.6kB/s]\u001b[A\n",
      "Downloading data: 22.4MB [03:51, 76.9kB/s]\u001b[A\n",
      "Downloading data: 22.4MB [03:52, 86.8kB/s]\u001b[A\n",
      "Downloading data: 22.5MB [03:52, 91.3kB/s]\u001b[A\n",
      "Downloading data: 22.6MB [03:53, 106kB/s] \u001b[A\n",
      "Downloading data: 22.7MB [03:53, 122kB/s]\u001b[A\n",
      "Downloading data: 22.7MB [03:54, 127kB/s]\u001b[A\n",
      "Downloading data: 22.8MB [03:56, 73.8kB/s]\u001b[A\n",
      "Downloading data: 22.9MB [03:57, 79.1kB/s]\u001b[A\n",
      "Downloading data: 22.9MB [03:57, 81.5kB/s]\u001b[A\n",
      "Downloading data: 23.0MB [03:58, 95.0kB/s]\u001b[A\n",
      "Downloading data: 23.1MB [03:59, 92.7kB/s]\u001b[A\n",
      "Downloading data: 23.2MB [03:59, 95.9kB/s]\u001b[A\n",
      "Downloading data: 23.2MB [04:00, 109kB/s] \u001b[A\n",
      "Downloading data: 23.3MB [04:01, 97.3kB/s]\u001b[A\n",
      "Downloading data: 23.4MB [04:03, 69.4kB/s]\u001b[A\n",
      "Downloading data: 23.5MB [04:03, 82.7kB/s]\u001b[A\n",
      "Downloading data: 23.6MB [04:04, 91.6kB/s]\u001b[A\n",
      "Downloading data: 23.6MB [04:04, 107kB/s] \u001b[A\n",
      "Downloading data: 23.7MB [04:05, 89.5kB/s]\u001b[A\n",
      "Downloading data: 23.8MB [04:06, 77.6kB/s]\u001b[A\n",
      "Downloading data: 23.8MB [04:07, 76.6kB/s]\u001b[A\n",
      "Downloading data: 23.9MB [04:08, 88.5kB/s]\u001b[A\n",
      "Downloading data: 24.0MB [04:08, 87.6kB/s]\u001b[A\n",
      "Downloading data: 24.0MB [04:09, 77.8kB/s]\u001b[A\n",
      "Downloading data: 24.1MB [04:10, 85.6kB/s]\u001b[A\n",
      "Downloading data: 24.2MB [04:11, 95.4kB/s]\u001b[A\n",
      "Downloading data: 24.2MB [04:11, 97.9kB/s]\u001b[A\n",
      "Downloading data: 24.3MB [04:12, 107kB/s] \u001b[A\n",
      "Downloading data: 24.3MB [04:12, 106kB/s]\u001b[A\n",
      "Downloading data: 24.4MB [04:13, 121kB/s]\u001b[A\n",
      "Downloading data: 24.5MB [04:13, 147kB/s]\u001b[A\n",
      "Downloading data: 24.6MB [04:13, 140kB/s]\u001b[A\n",
      "Downloading data: 24.6MB [04:15, 106kB/s]\u001b[A\n",
      "Downloading data: 24.7MB [04:17, 60.6kB/s]\u001b[A\n",
      "Downloading data: 24.8MB [04:17, 68.8kB/s]\u001b[A\n",
      "Downloading data: 24.8MB [04:18, 76.8kB/s]\u001b[A\n",
      "Downloading data: 24.9MB [04:19, 95.6kB/s]\u001b[A\n",
      "Downloading data: 25.0MB [04:19, 107kB/s] \u001b[A\n",
      "Downloading data: 25.1MB [04:20, 115kB/s]\u001b[A\n",
      "Downloading data: 25.1MB [04:20, 122kB/s]\u001b[A\n",
      "Downloading data: 25.2MB [04:23, 66.4kB/s]\u001b[A\n",
      "Downloading data: 25.3MB [04:24, 65.3kB/s]\u001b[A\n",
      "Downloading data: 25.4MB [04:24, 73.2kB/s]\u001b[A\n",
      "Downloading data: 25.4MB [04:25, 82.2kB/s]\u001b[A\n",
      "Downloading data: 25.5MB [04:26, 89.3kB/s]\u001b[A\n",
      "Downloading data: 25.6MB [04:26, 102kB/s] \u001b[A\n",
      "Downloading data: 25.6MB [04:27, 111kB/s]\u001b[A\n",
      "Downloading data: 25.7MB [04:27, 127kB/s]\u001b[A\n",
      "Downloading data: 25.8MB [04:27, 144kB/s]\u001b[A\n",
      "Downloading data: 25.9MB [04:28, 134kB/s]\u001b[A\n",
      "Downloading data: 25.9MB [04:29, 113kB/s]\u001b[A\n",
      "Downloading data: 26.0MB [04:30, 77.8kB/s]\u001b[A\n",
      "Downloading data: 26.1MB [04:31, 88.7kB/s]\u001b[A\n",
      "Downloading data: 26.1MB [04:31, 106kB/s] \u001b[A\n",
      "Downloading data: 26.2MB [04:32, 98.9kB/s]\u001b[A\n",
      "Downloading data: 26.3MB [04:33, 83.9kB/s]\u001b[A\n",
      "Downloading data: 26.4MB [04:34, 92.0kB/s]\u001b[A\n",
      "Downloading data: 26.4MB [04:34, 112kB/s] \u001b[A\n",
      "Downloading data: 26.5MB [04:34, 141kB/s]\u001b[A\n",
      "Downloading data: 26.6MB [04:35, 160kB/s]\u001b[A\n",
      "Downloading data: 26.7MB [04:35, 151kB/s]\u001b[A\n",
      "Downloading data: 26.7MB [04:36, 150kB/s]\u001b[A\n",
      "Downloading data: 26.8MB [04:36, 128kB/s]\u001b[A\n",
      "Downloading data: 26.8MB [04:37, 117kB/s]\u001b[A\n",
      "Downloading data: 26.9MB [04:38, 116kB/s]\u001b[A\n",
      "Downloading data: 27.0MB [04:38, 108kB/s]\u001b[A\n",
      "Downloading data: 27.0MB [04:39, 85.8kB/s]\u001b[A\n",
      "Downloading data: 27.1MB [04:40, 95.0kB/s]\u001b[A\n",
      "Downloading data: 27.2MB [04:41, 113kB/s] \u001b[A\n",
      "Downloading data: 27.3MB [04:41, 117kB/s]\u001b[A\n",
      "Downloading data: 27.4MB [04:42, 116kB/s]\u001b[A\n",
      "Downloading data: 27.4MB [04:42, 111kB/s]\u001b[A\n",
      "Downloading data: 27.5MB [04:43, 92.8kB/s]\u001b[A\n",
      "Downloading data: 27.6MB [04:44, 110kB/s] \u001b[A\n",
      "Downloading data: 27.7MB [04:44, 130kB/s]\u001b[A\n",
      "Downloading data: 27.7MB [04:45, 148kB/s]\u001b[A\n",
      "Downloading data: 27.8MB [04:45, 159kB/s]\u001b[A\n",
      "Downloading data: 27.9MB [04:45, 188kB/s]\u001b[A\n",
      "Downloading data: 28.0MB [04:46, 135kB/s]\u001b[A\n",
      "Downloading data: 28.0MB [04:47, 101kB/s]\u001b[A\n",
      "Downloading data: 28.1MB [04:48, 104kB/s]\u001b[A\n",
      "Downloading data: 28.2MB [04:48, 133kB/s]\u001b[A\n",
      "Downloading data: 28.3MB [04:49, 154kB/s]\u001b[A\n",
      "Downloading data: 28.4MB [04:49, 188kB/s]\u001b[A\n",
      "Downloading data: 28.4MB [04:49, 199kB/s]\u001b[A\n",
      "Downloading data: 28.5MB [04:50, 151kB/s]\u001b[A\n",
      "Downloading data: 28.6MB [04:50, 159kB/s]\u001b[A\n",
      "Downloading data: 28.6MB [04:51, 107kB/s]\u001b[A\n",
      "Downloading data: 28.7MB [04:53, 92.1kB/s]\u001b[A\n",
      "Downloading data: 28.8MB [04:54, 91.3kB/s]\u001b[A\n",
      "Downloading data: 28.9MB [04:54, 95.3kB/s]\u001b[A\n",
      "Downloading data: 29.0MB [04:55, 93.1kB/s]\u001b[A\n",
      "Downloading data: 29.0MB [04:56, 110kB/s] \u001b[A\n",
      "Downloading data: 29.1MB [04:56, 120kB/s]\u001b[A\n",
      "Downloading data: 29.2MB [04:57, 79.4kB/s]\u001b[A\n",
      "Downloading data: 29.2MB [04:58, 76.2kB/s]\u001b[A\n",
      "Downloading data: 29.3MB [04:59, 80.2kB/s]\u001b[A\n",
      "Downloading data: 29.3MB [05:00, 89.8kB/s]\u001b[A\n",
      "Downloading data: 29.4MB [05:00, 94.8kB/s]\u001b[A\n",
      "Downloading data: 29.5MB [05:01, 87.5kB/s]\u001b[A\n",
      "Downloading data: 29.5MB [05:02, 81.0kB/s]\u001b[A\n",
      "Downloading data: 29.6MB [05:03, 79.4kB/s]\u001b[A\n",
      "Downloading data: 29.7MB [05:03, 89.0kB/s]\u001b[A\n",
      "Downloading data: 29.7MB [05:04, 107kB/s] \u001b[A\n",
      "Downloading data: 29.8MB [05:04, 103kB/s]\u001b[A\n",
      "Downloading data: 29.9MB [05:05, 113kB/s]\u001b[A\n",
      "Downloading data: 30.0MB [05:06, 97.6kB/s]\u001b[A\n",
      "Downloading data: 30.1MB [05:06, 119kB/s] \u001b[A\n",
      "Downloading data: 30.1MB [05:08, 89.1kB/s]\u001b[A\n",
      "Downloading data: 30.2MB [05:08, 103kB/s] \u001b[A\n",
      "Downloading data: 30.3MB [05:09, 120kB/s]\u001b[A\n",
      "Downloading data: 30.4MB [05:09, 126kB/s]\u001b[A\n",
      "Downloading data: 30.4MB [05:10, 130kB/s]\u001b[A\n",
      "Downloading data: 30.5MB [05:10, 128kB/s]\u001b[A\n",
      "Downloading data: 30.6MB [05:11, 119kB/s]\u001b[A\n",
      "Downloading data: 30.7MB [05:12, 116kB/s]\u001b[A\n",
      "Downloading data: 30.7MB [05:12, 117kB/s]\u001b[A\n",
      "Downloading data: 30.8MB [05:13, 135kB/s]\u001b[A\n",
      "Downloading data: 30.9MB [05:14, 114kB/s]\u001b[A\n",
      "Downloading data: 31.0MB [05:14, 113kB/s]\u001b[A\n",
      "Downloading data: 31.0MB [05:15, 127kB/s]\u001b[A\n",
      "Downloading data: 31.1MB [05:15, 123kB/s]\u001b[A\n",
      "Downloading data: 31.2MB [05:16, 120kB/s]\u001b[A\n",
      "Downloading data: 31.2MB [05:16, 131kB/s]\u001b[A\n",
      "Downloading data: 31.3MB [05:17, 123kB/s]\u001b[A\n",
      "Downloading data: 31.4MB [05:18, 133kB/s]\u001b[A\n",
      "Downloading data: 31.5MB [05:19, 110kB/s]\u001b[A\n",
      "Downloading data: 31.5MB [05:19, 99.4kB/s]\u001b[A\n",
      "Downloading data: 31.6MB [05:20, 95.5kB/s]\u001b[A\n",
      "Downloading data: 31.7MB [05:21, 99.4kB/s]\u001b[A\n",
      "Downloading data: 31.7MB [05:21, 109kB/s] \u001b[A\n",
      "Downloading data: 31.8MB [05:22, 122kB/s]\u001b[A\n",
      "Downloading data: 31.9MB [05:22, 122kB/s]\u001b[A\n",
      "Downloading data: 31.9MB [05:23, 98.7kB/s]\u001b[A\n",
      "Downloading data: 32.0MB [05:24, 85.0kB/s]\u001b[A\n",
      "Downloading data: 32.1MB [05:26, 70.1kB/s]\u001b[A\n",
      "Downloading data: 32.2MB [05:27, 81.4kB/s]\u001b[A\n",
      "Downloading data: 32.2MB [05:27, 84.9kB/s]\u001b[A\n",
      "Downloading data: 32.3MB [05:28, 90.6kB/s]\u001b[A\n",
      "Downloading data: 32.4MB [05:29, 75.6kB/s]\u001b[A\n",
      "Downloading data: 32.5MB [05:30, 73.7kB/s]\u001b[A\n",
      "Downloading data: 32.5MB [05:31, 83.2kB/s]\u001b[A\n",
      "Downloading data: 32.6MB [05:32, 83.4kB/s]\u001b[A\n",
      "Downloading data: 32.7MB [05:32, 98.7kB/s]\u001b[A\n",
      "Downloading data: 32.8MB [05:33, 106kB/s] \u001b[A\n",
      "Downloading data: 32.8MB [05:33, 105kB/s]\u001b[A\n",
      "Downloading data: 32.9MB [05:34, 90.3kB/s]\u001b[A\n",
      "Downloading data: 32.9MB [05:35, 92.3kB/s]\u001b[A\n",
      "Downloading data: 33.0MB [05:36, 102kB/s] \u001b[A\n",
      "Downloading data: 33.1MB [05:37, 82.4kB/s]\u001b[A\n",
      "Downloading data: 33.2MB [05:38, 84.1kB/s]\u001b[A\n",
      "Downloading data: 33.2MB [05:38, 95.5kB/s]\u001b[A\n",
      "Downloading data: 33.3MB [05:39, 111kB/s] \u001b[A\n",
      "Downloading data: 33.4MB [05:39, 120kB/s]\u001b[A\n",
      "Downloading data: 33.5MB [05:40, 119kB/s]\u001b[A\n",
      "Downloading data: 33.6MB [05:41, 129kB/s]\u001b[A\n",
      "Downloading data: 33.6MB [05:41, 128kB/s]\u001b[A\n",
      "Downloading data: 33.7MB [05:41, 133kB/s]\u001b[A\n",
      "Downloading data: 33.8MB [05:42, 131kB/s]\u001b[A\n",
      "Downloading data: 33.8MB [05:42, 149kB/s]\u001b[A\n",
      "Downloading data: 33.9MB [05:43, 158kB/s]\u001b[A\n",
      "Downloading data: 34.0MB [05:43, 161kB/s]\u001b[A\n",
      "Downloading data: 34.0MB [05:44, 125kB/s]\u001b[A\n",
      "Downloading data: 34.1MB [05:45, 118kB/s]\u001b[A\n",
      "Downloading data: 34.2MB [05:45, 141kB/s]\u001b[A\n",
      "Downloading data: 34.3MB [05:45, 144kB/s]\u001b[A\n",
      "Downloading data: 34.4MB [05:47, 94.0kB/s]\u001b[A\n",
      "Downloading data: 34.4MB [05:48, 85.9kB/s]\u001b[A\n",
      "Downloading data: 34.5MB [05:49, 88.0kB/s]\u001b[A\n",
      "Downloading data: 34.6MB [05:49, 91.0kB/s]\u001b[A\n",
      "Downloading data: 34.6MB [05:50, 102kB/s] \u001b[A\n",
      "Downloading data: 34.7MB [05:51, 89.6kB/s]\u001b[A\n",
      "Downloading data: 34.8MB [05:52, 100kB/s] \u001b[A\n",
      "Downloading data: 34.9MB [05:52, 107kB/s]\u001b[A\n",
      "Downloading data: 34.9MB [05:53, 103kB/s]\u001b[A\n",
      "Downloading data: 35.0MB [05:54, 93.6kB/s]\u001b[A\n",
      "Downloading data: 35.1MB [05:54, 104kB/s] \u001b[A\n",
      "Downloading data: 35.2MB [05:56, 84.3kB/s]\u001b[A\n",
      "Downloading data: 35.2MB [05:56, 91.4kB/s]\u001b[A\n",
      "Downloading data: 35.3MB [05:57, 98.5kB/s]\u001b[A\n",
      "Downloading data: 35.4MB [05:58, 100kB/s] \u001b[A\n",
      "Downloading data: 35.4MB [05:58, 107kB/s]\u001b[A\n",
      "Downloading data: 35.5MB [05:59, 114kB/s]\u001b[A\n",
      "Downloading data: 35.6MB [05:59, 115kB/s]\u001b[A\n",
      "Downloading data: 35.6MB [06:00, 117kB/s]\u001b[A\n",
      "Downloading data: 35.7MB [06:00, 123kB/s]\u001b[A\n",
      "Downloading data: 35.8MB [06:01, 119kB/s]\u001b[A\n",
      "Downloading data: 35.9MB [06:02, 98.8kB/s]\u001b[A\n",
      "Downloading data: 36.0MB [06:03, 87.4kB/s]\u001b[A\n",
      "Downloading data: 36.1MB [06:04, 99.6kB/s]\u001b[A\n",
      "Downloading data: 36.1MB [06:04, 102kB/s] \u001b[A\n",
      "Downloading data: 36.2MB [06:05, 114kB/s]\u001b[A\n",
      "Downloading data: 36.2MB [06:06, 89.8kB/s]\u001b[A\n",
      "Downloading data: 36.3MB [06:06, 99.5kB/s]\u001b[A\n",
      "Downloading data: 36.4MB [06:08, 85.2kB/s]\u001b[A\n",
      "Downloading data: 36.5MB [06:09, 75.7kB/s]\u001b[A\n",
      "Downloading data: 36.5MB [06:10, 64.7kB/s]\u001b[A\n",
      "Downloading data: 36.6MB [06:11, 73.3kB/s]\u001b[A\n",
      "Downloading data: 36.7MB [06:12, 71.0kB/s]\u001b[A\n",
      "Downloading data: 36.7MB [06:13, 70.3kB/s]\u001b[A\n",
      "Downloading data: 36.8MB [06:14, 73.1kB/s]\u001b[A\n",
      "Downloading data: 36.9MB [06:15, 88.3kB/s]\u001b[A\n",
      "Downloading data: 37.0MB [06:16, 87.0kB/s]\u001b[A\n",
      "Downloading data: 37.1MB [06:17, 84.9kB/s]\u001b[A\n",
      "Downloading data: 37.2MB [06:17, 104kB/s] \u001b[A\n",
      "Downloading data: 37.3MB [06:18, 120kB/s]\u001b[A\n",
      "Downloading data: 37.3MB [06:18, 134kB/s]\u001b[A\n",
      "Downloading data: 37.4MB [06:20, 74.9kB/s]\u001b[A\n",
      "Downloading data: 37.5MB [06:21, 79.8kB/s]\u001b[A\n",
      "Downloading data: 37.6MB [06:22, 72.6kB/s]\u001b[A\n",
      "Downloading data: 37.6MB [06:24, 63.1kB/s]\u001b[A\n",
      "Downloading data: 37.7MB [06:25, 69.5kB/s]\u001b[A\n",
      "Downloading data: 37.8MB [06:26, 75.0kB/s]\u001b[A\n",
      "Downloading data: 37.9MB [06:27, 68.5kB/s]\u001b[A\n",
      "Downloading data: 37.9MB [06:28, 64.3kB/s]\u001b[A\n",
      "Downloading data: 38.0MB [06:29, 59.8kB/s]\u001b[A\n",
      "Downloading data: 38.1MB [06:31, 52.2kB/s]\u001b[A\n",
      "Downloading data: 38.2MB [06:32, 54.5kB/s]\u001b[A\n",
      "Downloading data: 38.2MB [06:34, 54.9kB/s]\u001b[A\n",
      "Downloading data: 38.3MB [06:35, 55.5kB/s]\u001b[A\n",
      "Downloading data: 38.4MB [06:35, 70.2kB/s]\u001b[A\n",
      "Downloading data: 38.4MB [06:36, 74.2kB/s]\u001b[A\n",
      "Downloading data: 38.5MB [06:37, 68.4kB/s]\u001b[A\n",
      "Downloading data: 38.6MB [06:38, 63.9kB/s]\u001b[A\n",
      "Downloading data: 38.6MB [06:39, 69.9kB/s]\u001b[A\n",
      "Downloading data: 38.7MB [06:39, 81.1kB/s]\u001b[A\n",
      "Downloading data: 38.7MB [06:40, 84.3kB/s]\u001b[A\n",
      "Downloading data: 38.8MB [06:41, 95.1kB/s]\u001b[A\n",
      "Downloading data: 38.9MB [06:42, 86.7kB/s]\u001b[A\n",
      "Downloading data: 38.9MB [06:43, 83.6kB/s]\u001b[A\n",
      "Downloading data: 39.0MB [06:43, 83.6kB/s]\u001b[A\n",
      "Downloading data: 39.1MB [06:44, 86.3kB/s]\u001b[A\n",
      "Downloading data: 39.1MB [06:45, 88.2kB/s]\u001b[A\n",
      "Downloading data: 39.2MB [06:47, 59.0kB/s]\u001b[A\n",
      "Downloading data: 39.3MB [06:48, 61.9kB/s]\u001b[A\n",
      "Downloading data: 39.3MB [06:48, 64.3kB/s]\u001b[A\n",
      "Downloading data: 39.4MB [06:49, 70.1kB/s]\u001b[A\n",
      "Downloading data: 39.5MB [06:50, 88.6kB/s]\u001b[A\n",
      "Downloading data: 39.6MB [06:50, 110kB/s] \u001b[A\n",
      "Downloading data: 39.6MB [06:51, 117kB/s]\u001b[A\n",
      "Downloading data: 39.7MB [06:51, 133kB/s]\u001b[A\n",
      "Downloading data: 39.8MB [06:51, 146kB/s]\u001b[A\n",
      "Downloading data: 39.9MB [06:52, 131kB/s]\u001b[A\n",
      "Downloading data: 39.9MB [06:53, 122kB/s]\u001b[A\n",
      "Downloading data: 40.0MB [06:54, 125kB/s]\u001b[A\n",
      "Downloading data: 40.1MB [06:54, 125kB/s]\u001b[A\n",
      "Downloading data: 40.2MB [06:54, 139kB/s]\u001b[A\n",
      "Downloading data: 40.2MB [06:55, 132kB/s]\u001b[A\n",
      "Downloading data: 40.3MB [06:56, 103kB/s]\u001b[A\n",
      "Downloading data: 40.4MB [06:57, 81.0kB/s]\u001b[A\n",
      "Downloading data: 40.4MB [06:58, 70.2kB/s]\u001b[A\n",
      "Downloading data: 40.5MB [06:59, 75.4kB/s]\u001b[A\n",
      "Downloading data: 40.6MB [07:00, 74.2kB/s]\u001b[A\n",
      "Downloading data: 40.6MB [07:01, 73.1kB/s]\u001b[A\n",
      "Downloading data: 40.7MB [07:02, 63.1kB/s]\u001b[A\n",
      "Downloading data: 40.8MB [07:03, 73.6kB/s]\u001b[A\n",
      "Downloading data: 40.8MB [07:03, 91.5kB/s]\u001b[A\n",
      "Downloading data: 40.9MB [07:04, 103kB/s] \u001b[A\n",
      "Downloading data: 41.0MB [07:04, 112kB/s]\u001b[A\n",
      "Downloading data: 41.1MB [07:05, 138kB/s]\u001b[A\n",
      "Downloading data: 41.2MB [07:06, 116kB/s]\u001b[A\n",
      "Downloading data: 41.2MB [07:07, 108kB/s]\u001b[A\n",
      "Downloading data: 41.3MB [07:07, 116kB/s]\u001b[A\n",
      "Downloading data: 41.4MB [07:09, 70.6kB/s]\u001b[A\n",
      "Downloading data: 41.4MB [07:10, 78.6kB/s]\u001b[A\n",
      "Downloading data: 41.5MB [07:10, 83.9kB/s]\u001b[A\n",
      "Downloading data: 41.6MB [07:11, 84.2kB/s]\u001b[A\n",
      "Downloading data: 41.6MB [07:11, 92.3kB/s]\u001b[A\n",
      "Downloading data: 41.7MB [07:12, 95.5kB/s]\u001b[A\n",
      "Downloading data: 41.8MB [07:13, 112kB/s] \u001b[A\n",
      "Downloading data: 41.9MB [07:13, 134kB/s]\u001b[A\n",
      "Downloading data: 41.9MB [07:13, 140kB/s]\u001b[A\n",
      "Downloading data: 42.0MB [07:14, 133kB/s]\u001b[A\n",
      "Downloading data: 42.1MB [07:15, 96.6kB/s]\u001b[A\n",
      "Downloading data files:  50%|█████     | 1/2 [07:32<07:32, 452.72s/it]\n",
      "Downloading data:   0%|          | 0.00/801k [00:00<?, ?B/s]\u001b[A\n",
      "Downloading data:   0%|          | 1.02k/801k [00:00<07:26, 1.79kB/s]\u001b[A\n",
      "Downloading data:   9%|▊         | 69.6k/801k [00:01<00:13, 56.0kB/s]\u001b[A\n",
      "Downloading data:  21%|██        | 166k/801k [00:02<00:06, 99.3kB/s] \u001b[A\n",
      "Downloading data:  32%|███▏      | 260k/801k [00:02<00:05, 106kB/s] \u001b[A\n",
      "Downloading data:  44%|████▍     | 353k/801k [00:03<00:04, 93.5kB/s]\u001b[A\n",
      "Downloading data:  55%|█████▍    | 440k/801k [00:04<00:03, 91.5kB/s]\u001b[A\n",
      "Downloading data:  66%|██████▌   | 525k/801k [00:06<00:03, 81.4kB/s]\u001b[A\n",
      "Downloading data:  76%|███████▌  | 605k/801k [00:07<00:02, 85.3kB/s]\u001b[A\n",
      "Downloading data:  86%|████████▋ | 692k/801k [00:07<00:01, 91.5kB/s]\u001b[A\n",
      "Downloading data:  98%|█████████▊| 784k/801k [00:08<00:00, 103kB/s] \u001b[A\n",
      "Downloading data: 876kB [00:09, 121kB/s]                           \u001b[A\n",
      "Downloading data: 969kB [00:10, 99.0kB/s]\u001b[A\n",
      "Downloading data: 1.06MB [00:10, 114kB/s]\u001b[A\n",
      "Downloading data: 1.15MB [00:12, 98.9kB/s]\u001b[A\n",
      "Downloading data: 1.23MB [00:12, 104kB/s] \u001b[A\n",
      "Downloading data: 1.32MB [00:13, 121kB/s]\u001b[A\n",
      "Downloading data: 1.40MB [00:14, 110kB/s]\u001b[A\n",
      "Downloading data: 1.49MB [00:14, 123kB/s]\u001b[A\n",
      "Downloading data: 1.57MB [00:15, 124kB/s]\u001b[A\n",
      "Downloading data: 1.67MB [00:16, 117kB/s]\u001b[A\n",
      "Downloading data: 1.76MB [00:16, 117kB/s]\u001b[A\n",
      "Downloading data: 1.85MB [00:17, 127kB/s]\u001b[A\n",
      "Downloading data: 1.95MB [00:18, 121kB/s]\u001b[A\n",
      "Downloading data: 2.05MB [00:19, 108kB/s]\u001b[A\n",
      "Downloading data: 2.15MB [00:20, 108kB/s]\u001b[A\n",
      "Downloading data: 2.24MB [00:21, 97.1kB/s]\u001b[A\n",
      "Downloading data: 2.32MB [00:22, 95.6kB/s]\u001b[A\n",
      "Downloading data: 2.40MB [00:23, 88.0kB/s]\u001b[A\n",
      "Downloading data: 2.48MB [00:24, 92.5kB/s]\u001b[A\n",
      "Downloading data: 2.58MB [00:25, 83.1kB/s]\u001b[A\n",
      "Downloading data: 2.67MB [00:26, 98.8kB/s]\u001b[A\n",
      "Downloading data: 2.76MB [00:26, 109kB/s] \u001b[A\n",
      "Downloading data: 2.84MB [00:27, 106kB/s]\u001b[A\n",
      "Downloading data: 2.92MB [00:28, 110kB/s]\u001b[A\n",
      "Downloading data: 3.01MB [00:29, 117kB/s]\u001b[A\n",
      "Downloading data: 3.09MB [00:29, 130kB/s]\u001b[A\n",
      "Downloading data: 3.15MB [00:30, 114kB/s]\u001b[A\n",
      "Downloading data: 3.25MB [00:31, 118kB/s]\u001b[A\n",
      "Downloading data: 3.36MB [00:31, 125kB/s]\u001b[A\n",
      "Downloading data: 3.45MB [00:33, 98.0kB/s]\u001b[A\n",
      "Downloading data: 3.53MB [00:34, 100kB/s] \u001b[A\n",
      "Downloading data: 3.62MB [00:35, 93.1kB/s]\u001b[A\n",
      "Downloading data: 3.71MB [00:36, 75.1kB/s]\u001b[A\n",
      "Downloading data: 3.80MB [00:37, 87.5kB/s]\u001b[A\n",
      "Downloading data: 3.89MB [00:38, 102kB/s] \u001b[A\n",
      "Downloading data: 3.97MB [00:38, 118kB/s]\u001b[A\n",
      "Downloading data: 4.07MB [00:39, 128kB/s]\u001b[A\n",
      "Downloading data: 4.17MB [00:40, 114kB/s]\u001b[A\n",
      "Downloading data: 4.26MB [00:40, 122kB/s]\u001b[A\n",
      "Downloading data: 4.37MB [00:40, 107kB/s]\u001b[A\n",
      "Downloading data files: 100%|██████████| 2/2 [08:16<00:00, 248.30s/it]\n",
      "Extracting data files: 100%|██████████| 2/2 [00:00<00:00, 1023.75it/s]\n",
      "Generating train split: 100%|██████████| 130319/130319 [00:08<00:00, 15522.34 examples/s]\n",
      "Generating validation split: 100%|██████████| 11873/11873 [00:00<00:00, 14425.56 examples/s]\n"
     ]
    }
   ],
   "source": [
    "datasets = load_dataset(\"/data/datasets/llmquickstart/squad_v2\" if squad_v2 else \"squad\")"
   ]
  },
  {
   "cell_type": "markdown",
   "metadata": {
    "id": "RzfPtOMoIrIu"
   },
   "source": [
    "The `datasets` object itself is [`DatasetDict`](https://huggingface.co/docs/datasets/package_reference/main_classes.html#datasetdict), which contains one key for the training, validation and test set."
   ]
  },
  {
   "cell_type": "code",
   "execution_count": 5,
   "metadata": {
    "id": "GWiVUF0jIrIv",
    "outputId": "35e3ea43-f397-4a54-c90c-f2cf8d36873e"
   },
   "outputs": [
    {
     "data": {
      "text/plain": [
       "DatasetDict({\n",
       "    train: Dataset({\n",
       "        features: ['id', 'title', 'context', 'question', 'answers'],\n",
       "        num_rows: 130319\n",
       "    })\n",
       "    validation: Dataset({\n",
       "        features: ['id', 'title', 'context', 'question', 'answers'],\n",
       "        num_rows: 11873\n",
       "    })\n",
       "})"
      ]
     },
     "execution_count": 5,
     "metadata": {},
     "output_type": "execute_result"
    }
   ],
   "source": [
    "datasets"
   ]
  },
  {
   "cell_type": "markdown",
   "metadata": {},
   "source": [
    "#### 对比数据集\n",
    "\n",
    "相比快速入门使用的 Yelp 评论数据集，我们可以看到 SQuAD 训练和测试集都新增了用于上下文、问题以及问题答案的列：\n",
    "\n",
    "**YelpReviewFull Dataset：**\n",
    "\n",
    "```json\n",
    "\n",
    "DatasetDict({\n",
    "    train: Dataset({\n",
    "        features: ['label', 'text'],\n",
    "        num_rows: 650000\n",
    "    })\n",
    "    test: Dataset({\n",
    "        features: ['label', 'text'],\n",
    "        num_rows: 50000\n",
    "    })\n",
    "})\n",
    "```"
   ]
  },
  {
   "cell_type": "code",
   "execution_count": 6,
   "metadata": {
    "id": "X6HrpprwIrIz",
    "outputId": "d7670bc0-42e4-4c09-8a6a-5c018ded7d95"
   },
   "outputs": [
    {
     "data": {
      "text/plain": [
       "{'id': '56be85543aeaaa14008c9063',\n",
       " 'title': 'Beyoncé',\n",
       " 'context': 'Beyoncé Giselle Knowles-Carter (/biːˈjɒnseɪ/ bee-YON-say) (born September 4, 1981) is an American singer, songwriter, record producer and actress. Born and raised in Houston, Texas, she performed in various singing and dancing competitions as a child, and rose to fame in the late 1990s as lead singer of R&B girl-group Destiny\\'s Child. Managed by her father, Mathew Knowles, the group became one of the world\\'s best-selling girl groups of all time. Their hiatus saw the release of Beyoncé\\'s debut album, Dangerously in Love (2003), which established her as a solo artist worldwide, earned five Grammy Awards and featured the Billboard Hot 100 number-one singles \"Crazy in Love\" and \"Baby Boy\".',\n",
       " 'question': 'When did Beyonce start becoming popular?',\n",
       " 'answers': {'text': ['in the late 1990s'], 'answer_start': [269]}}"
      ]
     },
     "execution_count": 6,
     "metadata": {},
     "output_type": "execute_result"
    }
   ],
   "source": [
    "datasets[\"train\"][0]"
   ]
  },
  {
   "cell_type": "markdown",
   "metadata": {},
   "source": [
    "#### 从上下文中组织回复内容\n",
    "\n",
    "我们可以看到答案是通过它们在文本中的起始位置（这里是第515个字符）以及它们的完整文本表示的，这是上面提到的上下文的子字符串。"
   ]
  },
  {
   "cell_type": "code",
   "execution_count": 7,
   "metadata": {
    "id": "i3j8APAoIrI3"
   },
   "outputs": [],
   "source": [
    "from datasets import ClassLabel, Sequence\n",
    "import random\n",
    "import pandas as pd\n",
    "from IPython.display import display, HTML\n",
    "\n",
    "def show_random_elements(dataset, num_examples=10):\n",
    "    assert num_examples <= len(dataset), \"Can't pick more elements than there are in the dataset.\"\n",
    "    picks = []\n",
    "    for _ in range(num_examples):\n",
    "        pick = random.randint(0, len(dataset)-1)\n",
    "        while pick in picks:\n",
    "            pick = random.randint(0, len(dataset)-1)\n",
    "        picks.append(pick)\n",
    "    \n",
    "    df = pd.DataFrame(dataset[picks])\n",
    "    for column, typ in dataset.features.items():\n",
    "        if isinstance(typ, ClassLabel):\n",
    "            df[column] = df[column].transform(lambda i: typ.names[i])\n",
    "        elif isinstance(typ, Sequence) and isinstance(typ.feature, ClassLabel):\n",
    "            df[column] = df[column].transform(lambda x: [typ.feature.names[i] for i in x])\n",
    "    display(HTML(df.to_html()))"
   ]
  },
  {
   "cell_type": "code",
   "execution_count": 8,
   "metadata": {
    "id": "SZy5tRB_IrI7",
    "outputId": "ba8f2124-e485-488f-8c0c-254f34f24f13"
   },
   "outputs": [
    {
     "data": {
      "text/html": [
       "<table border=\"1\" class=\"dataframe\">\n",
       "  <thead>\n",
       "    <tr style=\"text-align: right;\">\n",
       "      <th></th>\n",
       "      <th>id</th>\n",
       "      <th>title</th>\n",
       "      <th>context</th>\n",
       "      <th>question</th>\n",
       "      <th>answers</th>\n",
       "    </tr>\n",
       "  </thead>\n",
       "  <tbody>\n",
       "    <tr>\n",
       "      <th>0</th>\n",
       "      <td>5727009f5951b619008f846b</td>\n",
       "      <td>Comcast</td>\n",
       "      <td>Comcast Corporation, formerly registered as Comcast Holdings,[note 1] is an American multinational mass media company and is the largest broadcasting and largest cable company in the world by revenue. It is the second largest pay-TV company after the AT&amp;T-DirecTV acquisition, largest cable TV company and largest home Internet service provider in the United States, and the nation's third largest home telephone service provider. Comcast services U.S. residential and commercial customers in 40 states and the District of Columbia. The company's headquarters are located in Philadelphia, Pennsylvania.</td>\n",
       "      <td>Comcast is also the largest media company in the United States in what broadband area?</td>\n",
       "      <td>{'text': ['Internet service provider'], 'answer_start': [319]}</td>\n",
       "    </tr>\n",
       "    <tr>\n",
       "      <th>1</th>\n",
       "      <td>56e7b32400c9c71400d7751f</td>\n",
       "      <td>Nanjing</td>\n",
       "      <td>Instead, Nanjing, as a popular tourist destination, hosts a series of government-organised events throughout the year. The annual International Plum Blossom Festival held in Plum Blossom Hill, the largest plum collection in China, attracts thousands of tourists both domestically and internationally. Other events include Nanjing Baima Peach Blossom and Kite Festival, Jiangxin Zhou Fruit Festival and Linggu Temple Sweet Osmanthus Festival.</td>\n",
       "      <td>What festival involves kites and fruit trees?</td>\n",
       "      <td>{'text': ['Nanjing Baima Peach Blossom and Kite Festival'], 'answer_start': [322]}</td>\n",
       "    </tr>\n",
       "    <tr>\n",
       "      <th>2</th>\n",
       "      <td>572aab9634ae481900deac10</td>\n",
       "      <td>John_Kerry</td>\n",
       "      <td>James Rassmann, a Green Beret advisor who was aboard Kerry's PCF-94, was knocked overboard when, according to witnesses and the documentation of the event, a mine or rocket exploded close to the boat. According to the documentation for the event, Kerry's arm was injured when he was thrown against a bulkhead during the explosion. PCF 94 returned to the scene and Kerry rescued Rassmann who was receiving sniper fire from the water. Kerry received the Bronze Star Medal with Combat \"V\" for \"heroic achievement\", for his actions during this incident; he also received his third Purple Heart.</td>\n",
       "      <td>Who fell overboard from Kerry's boat?</td>\n",
       "      <td>{'text': ['James Rassmann'], 'answer_start': [0]}</td>\n",
       "    </tr>\n",
       "    <tr>\n",
       "      <th>3</th>\n",
       "      <td>572655bedd62a815002e81d2</td>\n",
       "      <td>Professional_wrestling</td>\n",
       "      <td>Due to the legitimate role that referees play in wrestling of serving as liaison between the bookers backstage and the wrestlers in the ring (the role of being a final arbitrator is merely kayfabe), the referee is present, even in matches that do not at first glance appear to require a referee (such as a ladder match, as it is no holds barred, and the criteria for victory could theoretically be assessed from afar). Although their actions are also frequently scripted for dramatic effect, referees are subject to certain general rules and requirements in order to maintain the theatrical appearance of unbiased authority. The most basic rule is that an action must be seen by a referee to be declared for a fall or disqualification. This allows for heel characters to gain a scripted advantage by distracting or disabling the referee in order to perform some ostensibly illegal maneuver on their opponent. Most referees are unnamed and essentially anonymous, though the WWE has let their officials reveal their names.</td>\n",
       "      <td>What are referees called?</td>\n",
       "      <td>{'text': ['Most referees are unnamed and essentially anonymous, though the WWE has let their officials reveal their names.'], 'answer_start': [909]}</td>\n",
       "    </tr>\n",
       "    <tr>\n",
       "      <th>4</th>\n",
       "      <td>5ad24569d7d075001a428a9c</td>\n",
       "      <td>Emotion</td>\n",
       "      <td>Western philosophy regarded emotion in varying ways. In stoic theories it was seen as a hindrance to reason and therefore a hindrance to virtue. Aristotle believed that emotions were an essential component of virtue. In the Aristotelian view all emotions (called passions) corresponded to appetites or capacities. During the Middle Ages, the Aristotelian view was adopted and further developed by scholasticism and Thomas Aquinas in particular. There are also theories of emotions in the works of philosophers such as René Descartes, Niccolò Machiavelli, Baruch Spinoza and David Hume. In the 19th century emotions were considered adaptive and were studied more frequently from an empiricist psychiatric perspective.</td>\n",
       "      <td>What did the Aristotelians not call emotions?</td>\n",
       "      <td>{'text': [], 'answer_start': []}</td>\n",
       "    </tr>\n",
       "    <tr>\n",
       "      <th>5</th>\n",
       "      <td>5728a9eeff5b5019007da3e4</td>\n",
       "      <td>Estonia</td>\n",
       "      <td>The Reformation in Europe officially began in 1517 with Martin Luther (1483–1546) and his 95 Theses. The Reformation greatly changed the Baltic region. Its ideas came quickly to the Livonian Confederation and by the 1520s were widespread. Language, education, religion and politics were transformed. Church services were now conducted in the vernacular instead of in Latin, previously used. During the Livonian War in 1561, northern Estonia submitted to Swedish control. In the 1560s two voivodeships of present-day southern Estonia, Dorpat Voivodeship (Tartu region) and Parnawa Voivodeship (Pärnu region), became the autonomous Duchy of Livonia within the Polish-Lithuanian Commonwealth, under joint control of the Polish Crown and the Grand Duchy. In 1629, mainland Estonia came entirely under Swedish rule. Estonia was administratively divided between the provinces of Estonia in the north and Livonia in southern Estonia and northern Latvia. This division persisted until the early twentieth century.</td>\n",
       "      <td>What was the year of Martin Luther's death?</td>\n",
       "      <td>{'text': ['1546'], 'answer_start': [76]}</td>\n",
       "    </tr>\n",
       "    <tr>\n",
       "      <th>6</th>\n",
       "      <td>573138f7a5e9cc1400cdbd3d</td>\n",
       "      <td>Qing_dynasty</td>\n",
       "      <td>The Qing forces were crushed by Wu from 1673-1674. The Qing had the support of the majority of Han Chinese soldiers and Han elite against the Three Feudatories, since they refused to join Wu Sangui in the revolt, while the Eight Banners and Manchu officers fared poorly against Wu Sangui, so the Qing responded with using a massive army of more than 900,000 Han Chinese (non-Banner) instead of the Eight Banners, to fight and crush the Three Feudatories. Wu Sangui's forces were crushed by the Green Standard Army, made out of defected Ming soldiers.</td>\n",
       "      <td>When did Wu destroy the Qing armies?</td>\n",
       "      <td>{'text': ['1673-1674'], 'answer_start': [40]}</td>\n",
       "    </tr>\n",
       "    <tr>\n",
       "      <th>7</th>\n",
       "      <td>56f974f69e9bad19000a0944</td>\n",
       "      <td>Brain</td>\n",
       "      <td>Brain tissue consumes a large amount of energy in proportion to its volume, so large brains place severe metabolic demands on animals. The need to limit body weight in order, for example, to fly, has apparently led to selection for a reduction of brain size in some species, such as bats. Most of the brain's energy consumption goes into sustaining the electric charge (membrane potential) of neurons. Most vertebrate species devote between 2% and 8% of basal metabolism to the brain. In primates, however, the percentage is much higher—in humans it rises to 20–25%. The energy consumption of the brain does not vary greatly over time, but active regions of the cerebral cortex consume somewhat more energy than inactive regions; this forms the basis for the functional brain imaging methods PET, fMRI, and NIRS. The brain typically gets most of its energy from oxygen-dependent metabolism of glucose (i.e., blood sugar), but ketones provide a major alternative source, together with contributions from medium chain fatty acids (caprylic and heptanoic acids), lactate, acetate, and possibly amino acids.</td>\n",
       "      <td>Most vertebrates usually devote how much metabolism to the brain?</td>\n",
       "      <td>{'text': ['2% and 8%'], 'answer_start': [441]}</td>\n",
       "    </tr>\n",
       "    <tr>\n",
       "      <th>8</th>\n",
       "      <td>5a4e8143755ab9001a10f4a1</td>\n",
       "      <td>Airport</td>\n",
       "      <td>Many large airports are located near railway trunk routes for seamless connection of multimodal transport, for instance Frankfurt Airport, Amsterdam Airport Schiphol, London Heathrow Airport, London Gatwick Airport and London Stansted Airport. It is also common to connect an airport and a city with rapid transit, light rail lines or other non-road public transport systems. Some examples of this would include the AirTrain JFK at John F. Kennedy International Airport in New York, Link Light Rail that runs from the heart of downtown Seattle to Seattle–Tacoma International Airport, and the Silver Line T at Boston's Logan International Airport by the Massachusetts Bay Transportation Authority (MBTA). Such a connection lowers risk of missed flights due to traffic congestion. Large airports usually have access also through controlled-access highways ('freeways' or 'motorways') from which motor vehicles enter either the departure loop or the arrival loop.</td>\n",
       "      <td>What are many cities located close to?</td>\n",
       "      <td>{'text': [], 'answer_start': []}</td>\n",
       "    </tr>\n",
       "    <tr>\n",
       "      <th>9</th>\n",
       "      <td>56f88b90aef2371900626166</td>\n",
       "      <td>Gene</td>\n",
       "      <td>\\nA gene is a locus (or region) of DNA that encodes a functional RNA or protein product, and is the molecular unit of heredity.:Glossary The transmission of genes to an organism's offspring is the basis of the inheritance of phenotypic traits. Most biological traits are under the influence of polygenes (many different genes) as well as the gene–environment interactions. Some genetic traits are instantly visible, such as eye colour or number of limbs, and some are not, such as blood type, risk for specific diseases, or the thousands of basic biochemical processes that comprise life.</td>\n",
       "      <td>What is a gene?</td>\n",
       "      <td>{'text': ['a locus (or region) of DNA that encodes a functional RNA or protein product'], 'answer_start': [11]}</td>\n",
       "    </tr>\n",
       "  </tbody>\n",
       "</table>"
      ],
      "text/plain": [
       "<IPython.core.display.HTML object>"
      ]
     },
     "metadata": {},
     "output_type": "display_data"
    }
   ],
   "source": [
    "show_random_elements(datasets[\"train\"])"
   ]
  },
  {
   "cell_type": "markdown",
   "metadata": {
    "id": "n9qywopnIrJH"
   },
   "source": [
    "## 预处理数据"
   ]
  },
  {
   "cell_type": "code",
   "execution_count": 9,
   "metadata": {
    "id": "eXNLu_-nIrJI"
   },
   "outputs": [],
   "source": [
    "from transformers import AutoTokenizer\n",
    "    \n",
    "tokenizer = AutoTokenizer.from_pretrained(model_checkpoint)"
   ]
  },
  {
   "cell_type": "markdown",
   "metadata": {
    "id": "Vl6IidfdIrJK"
   },
   "source": [
    "以下断言确保我们的 Tokenizers 使用的是 FastTokenizer（Rust 实现，速度和功能性上有一定优势）。"
   ]
  },
  {
   "cell_type": "code",
   "execution_count": 10,
   "metadata": {},
   "outputs": [],
   "source": [
    "import transformers\n",
    "assert isinstance(tokenizer, transformers.PreTrainedTokenizerFast)"
   ]
  },
  {
   "cell_type": "markdown",
   "metadata": {},
   "source": [
    "您可以在大模型表上查看哪种类型的模型具有可用的快速标记器，哪种类型没有。\n",
    "\n",
    "您可以直接在两个句子上调用此标记器（一个用于答案，一个用于上下文）："
   ]
  },
  {
   "cell_type": "code",
   "execution_count": 11,
   "metadata": {
    "id": "a5hBlsrHIrJL",
    "outputId": "acdaa98a-a8cd-4a20-89b8-cc26437bbe90"
   },
   "outputs": [
    {
     "data": {
      "text/plain": [
       "{'input_ids': [101, 2054, 2003, 2115, 2171, 1029, 102, 2026, 2171, 2003, 25353, 22144, 2378, 1012, 102], 'attention_mask': [1, 1, 1, 1, 1, 1, 1, 1, 1, 1, 1, 1, 1, 1, 1]}"
      ]
     },
     "execution_count": 11,
     "metadata": {},
     "output_type": "execute_result"
    }
   ],
   "source": [
    "tokenizer(\"What is your name?\", \"My name is Sylvain.\")"
   ]
  },
  {
   "cell_type": "markdown",
   "metadata": {},
   "source": [
    "### Tokenizer 进阶操作\n",
    "\n",
    "在问答预处理中的一个特定问题是如何处理非常长的文档。\n",
    "\n",
    "在其他任务中，当文档的长度超过模型最大句子长度时，我们通常会截断它们，但在这里，删除上下文的一部分可能会导致我们丢失正在寻找的答案。\n",
    "\n",
    "为了解决这个问题，我们允许数据集中的一个（长）示例生成多个输入特征，每个特征的长度都小于模型的最大长度（或我们设置的超参数）。"
   ]
  },
  {
   "cell_type": "code",
   "execution_count": 12,
   "metadata": {},
   "outputs": [],
   "source": [
    "# The maximum length of a feature (question and context)\n",
    "max_length = 384 \n",
    "# The authorized overlap between two part of the context when splitting it is needed.\n",
    "doc_stride = 128 "
   ]
  },
  {
   "cell_type": "markdown",
   "metadata": {},
   "source": [
    "#### 超出最大长度的文本数据处理\n",
    "\n",
    "下面，我们从训练集中找出一个超过最大长度（384）的文本："
   ]
  },
  {
   "cell_type": "code",
   "execution_count": 13,
   "metadata": {},
   "outputs": [],
   "source": [
    "for i, example in enumerate(datasets[\"train\"]):\n",
    "    if len(tokenizer(example[\"question\"], example[\"context\"])[\"input_ids\"]) > 384:\n",
    "        break\n",
    "example = datasets[\"train\"][i]"
   ]
  },
  {
   "cell_type": "code",
   "execution_count": 14,
   "metadata": {},
   "outputs": [
    {
     "data": {
      "text/plain": [
       "437"
      ]
     },
     "execution_count": 14,
     "metadata": {},
     "output_type": "execute_result"
    }
   ],
   "source": [
    "len(tokenizer(example[\"question\"], example[\"context\"])[\"input_ids\"])"
   ]
  },
  {
   "cell_type": "code",
   "execution_count": 15,
   "metadata": {},
   "outputs": [
    {
     "data": {
      "text/plain": [
       "384"
      ]
     },
     "execution_count": 15,
     "metadata": {},
     "output_type": "execute_result"
    }
   ],
   "source": [
    "len(tokenizer(example[\"question\"],\n",
    "              example[\"context\"],\n",
    "              max_length=max_length,\n",
    "              truncation=\"only_second\")[\"input_ids\"])"
   ]
  },
  {
   "cell_type": "markdown",
   "metadata": {},
   "source": [
    "#### 关于截断的策略\n",
    "\n",
    "- 直接截断超出部分: truncation=`only_second`\n",
    "- 仅截断上下文（context），保留问题（question）：`return_overflowing_tokens=True` & 设置`stride`\n"
   ]
  },
  {
   "cell_type": "code",
   "execution_count": 16,
   "metadata": {},
   "outputs": [],
   "source": [
    "tokenized_example = tokenizer(\n",
    "    example[\"question\"],\n",
    "    example[\"context\"],\n",
    "    max_length=max_length,\n",
    "    truncation=\"only_second\",\n",
    "    return_overflowing_tokens=True,\n",
    "    stride=doc_stride\n",
    ")"
   ]
  },
  {
   "cell_type": "markdown",
   "metadata": {},
   "source": [
    "使用此策略截断后，Tokenizer 将返回多个 `input_ids` 列表。"
   ]
  },
  {
   "cell_type": "code",
   "execution_count": 17,
   "metadata": {},
   "outputs": [
    {
     "data": {
      "text/plain": [
       "[384, 192]"
      ]
     },
     "execution_count": 17,
     "metadata": {},
     "output_type": "execute_result"
    }
   ],
   "source": [
    "[len(x) for x in tokenized_example[\"input_ids\"]]"
   ]
  },
  {
   "cell_type": "markdown",
   "metadata": {},
   "source": [
    "解码两个输入特征，可以看到重叠的部分："
   ]
  },
  {
   "cell_type": "code",
   "execution_count": 18,
   "metadata": {},
   "outputs": [
    {
     "name": "stdout",
     "output_type": "stream",
     "text": [
      "[CLS] beyonce got married in 2008 to whom? [SEP] on april 4, 2008, beyonce married jay z. she publicly revealed their marriage in a video montage at the listening party for her third studio album, i am... sasha fierce, in manhattan's sony club on october 22, 2008. i am... sasha fierce was released on november 18, 2008 in the united states. the album formally introduces beyonce's alter ego sasha fierce, conceived during the making of her 2003 single \" crazy in love \", selling 482, 000 copies in its first week, debuting atop the billboard 200, and giving beyonce her third consecutive number - one album in the us. the album featured the number - one song \" single ladies ( put a ring on it ) \" and the top - five songs \" if i were a boy \" and \" halo \". achieving the accomplishment of becoming her longest - running hot 100 single in her career, \" halo \"'s success in the us helped beyonce attain more top - ten singles on the list than any other woman during the 2000s. it also included the successful \" sweet dreams \", and singles \" diva \", \" ego \", \" broken - hearted girl \" and \" video phone \". the music video for \" single ladies \" has been parodied and imitated around the world, spawning the \" first major dance craze \" of the internet age according to the toronto star. the video has won several awards, including best video at the 2009 mtv europe music awards, the 2009 scottish mobo awards, and the 2009 bet awards. at the 2009 mtv video music awards, the video was nominated for nine awards, ultimately winning three including video of the year. its failure to win the best female video category, which went to american country pop singer taylor swift's \" you belong with me \", led to kanye west interrupting the ceremony and beyonce [SEP]\n",
      "[CLS] beyonce got married in 2008 to whom? [SEP] single ladies \" has been parodied and imitated around the world, spawning the \" first major dance craze \" of the internet age according to the toronto star. the video has won several awards, including best video at the 2009 mtv europe music awards, the 2009 scottish mobo awards, and the 2009 bet awards. at the 2009 mtv video music awards, the video was nominated for nine awards, ultimately winning three including video of the year. its failure to win the best female video category, which went to american country pop singer taylor swift's \" you belong with me \", led to kanye west interrupting the ceremony and beyonce improvising a re - presentation of swift's award during her own acceptance speech. in march 2009, beyonce embarked on the i am... world tour, her second headlining worldwide concert tour, consisting of 108 shows, grossing $ 119. 5 million. [SEP]\n"
     ]
    }
   ],
   "source": [
    "for x in tokenized_example[\"input_ids\"][:2]:\n",
    "    print(tokenizer.decode(x))"
   ]
  },
  {
   "cell_type": "markdown",
   "metadata": {},
   "source": [
    "#### 使用 offsets_mapping 获取原始的 input_ids\n",
    "\n",
    "设置 `return_offsets_mapping=True`，将使得截断分割生成的多个 input_ids 列表中的 token，通过映射保留原始文本的 input_ids。\n",
    "\n",
    "如下所示：第一个标记（[CLS]）的起始和结束字符都是（0, 0），因为它不对应问题/答案的任何部分，然后第二个标记与问题(question)的字符0到3相同."
   ]
  },
  {
   "cell_type": "code",
   "execution_count": 19,
   "metadata": {},
   "outputs": [
    {
     "name": "stdout",
     "output_type": "stream",
     "text": [
      "[(0, 0), (0, 7), (8, 11), (12, 19), (20, 22), (23, 27), (28, 30), (31, 35), (35, 36), (0, 0), (0, 2), (3, 8), (9, 10), (10, 11), (12, 16), (16, 17), (18, 25), (26, 33), (34, 37), (38, 39), (39, 40), (41, 44), (45, 53), (54, 62), (63, 68), (69, 77), (78, 80), (81, 82), (83, 88), (89, 93), (93, 96), (97, 99), (100, 103), (104, 113), (114, 119), (120, 123), (124, 127), (128, 133), (134, 140), (141, 146), (146, 147), (148, 149), (150, 152), (152, 153), (153, 154), (154, 155), (156, 161), (162, 168), (168, 169), (170, 172), (173, 182), (182, 183), (183, 184), (185, 189), (190, 194), (195, 197), (198, 205), (206, 208), (208, 209), (210, 214), (214, 215), (216, 217), (218, 220), (220, 221), (221, 222), (222, 223), (224, 229), (230, 236), (237, 240), (241, 249), (250, 252), (253, 261), (262, 264), (264, 265), (266, 270), (271, 273), (274, 277), (278, 284), (285, 291), (291, 292), (293, 296), (297, 302), (303, 311), (312, 322), (323, 330), (330, 331), (331, 332), (333, 338), (339, 342), (343, 348), (349, 355), (355, 356), (357, 366), (367, 373), (374, 377), (378, 384), (385, 387), (388, 391), (392, 396), (397, 403)]\n"
     ]
    }
   ],
   "source": [
    "tokenized_example = tokenizer(\n",
    "    example[\"question\"],\n",
    "    example[\"context\"],\n",
    "    max_length=max_length,\n",
    "    truncation=\"only_second\",\n",
    "    return_overflowing_tokens=True,\n",
    "    return_offsets_mapping=True,\n",
    "    stride=doc_stride\n",
    ")\n",
    "print(tokenized_example[\"offset_mapping\"][0][:100])"
   ]
  },
  {
   "cell_type": "markdown",
   "metadata": {},
   "source": [
    "因此，我们可以使用这个映射来找到答案在给定特征中的起始和结束标记的位置。\n",
    "\n",
    "我们只需区分偏移的哪些部分对应于问题，哪些部分对应于上下文。"
   ]
  },
  {
   "cell_type": "code",
   "execution_count": 20,
   "metadata": {},
   "outputs": [
    {
     "name": "stdout",
     "output_type": "stream",
     "text": [
      "beyonce Beyonce\n"
     ]
    }
   ],
   "source": [
    "first_token_id = tokenized_example[\"input_ids\"][0][1]\n",
    "offsets = tokenized_example[\"offset_mapping\"][0][1]\n",
    "print(tokenizer.convert_ids_to_tokens([first_token_id])[0], example[\"question\"][offsets[0]:offsets[1]])"
   ]
  },
  {
   "cell_type": "markdown",
   "metadata": {},
   "source": [
    "借助`tokenized_example`的`sequence_ids`方法，我们可以方便的区分token的来源编号：\n",
    "\n",
    "- 对于特殊标记：返回None，\n",
    "- 对于正文Token：返回句子编号（从0开始编号）。\n",
    "\n",
    "综上，现在我们可以很方便的在一个输入特征中找到答案的起始和结束 Token。"
   ]
  },
  {
   "cell_type": "code",
   "execution_count": 21,
   "metadata": {},
   "outputs": [
    {
     "name": "stdout",
     "output_type": "stream",
     "text": [
      "[None, 0, 0, 0, 0, 0, 0, 0, 0, None, 1, 1, 1, 1, 1, 1, 1, 1, 1, 1, 1, 1, 1, 1, 1, 1, 1, 1, 1, 1, 1, 1, 1, 1, 1, 1, 1, 1, 1, 1, 1, 1, 1, 1, 1, 1, 1, 1, 1, 1, 1, 1, 1, 1, 1, 1, 1, 1, 1, 1, 1, 1, 1, 1, 1, 1, 1, 1, 1, 1, 1, 1, 1, 1, 1, 1, 1, 1, 1, 1, 1, 1, 1, 1, 1, 1, 1, 1, 1, 1, 1, 1, 1, 1, 1, 1, 1, 1, 1, 1, 1, 1, 1, 1, 1, 1, 1, 1, 1, 1, 1, 1, 1, 1, 1, 1, 1, 1, 1, 1, 1, 1, 1, 1, 1, 1, 1, 1, 1, 1, 1, 1, 1, 1, 1, 1, 1, 1, 1, 1, 1, 1, 1, 1, 1, 1, 1, 1, 1, 1, 1, 1, 1, 1, 1, 1, 1, 1, 1, 1, 1, 1, 1, 1, 1, 1, 1, 1, 1, 1, 1, 1, 1, 1, 1, 1, 1, 1, 1, 1, 1, 1, 1, 1, 1, 1, 1, 1, 1, 1, 1, 1, 1, 1, 1, 1, 1, 1, 1, 1, 1, 1, 1, 1, 1, 1, 1, 1, 1, 1, 1, 1, 1, 1, 1, 1, 1, 1, 1, 1, 1, 1, 1, 1, 1, 1, 1, 1, 1, 1, 1, 1, 1, 1, 1, 1, 1, 1, 1, 1, 1, 1, 1, 1, 1, 1, 1, 1, 1, 1, 1, 1, 1, 1, 1, 1, 1, 1, 1, 1, 1, 1, 1, 1, 1, 1, 1, 1, 1, 1, 1, 1, 1, 1, 1, 1, 1, 1, 1, 1, 1, 1, 1, 1, 1, 1, 1, 1, 1, 1, 1, 1, 1, 1, 1, 1, 1, 1, 1, 1, 1, 1, 1, 1, 1, 1, 1, 1, 1, 1, 1, 1, 1, 1, 1, 1, 1, 1, 1, 1, 1, 1, 1, 1, 1, 1, 1, 1, 1, 1, 1, 1, 1, 1, 1, 1, 1, 1, 1, 1, 1, 1, 1, 1, 1, 1, 1, 1, 1, 1, 1, 1, 1, 1, 1, 1, 1, 1, 1, 1, 1, 1, 1, 1, 1, 1, 1, 1, 1, 1, 1, 1, 1, 1, 1, 1, 1, 1, 1, 1, 1, 1, 1, None]\n"
     ]
    }
   ],
   "source": [
    "sequence_ids = tokenized_example.sequence_ids()\n",
    "print(sequence_ids)"
   ]
  },
  {
   "cell_type": "code",
   "execution_count": 22,
   "metadata": {},
   "outputs": [
    {
     "name": "stdout",
     "output_type": "stream",
     "text": [
      "18 19\n"
     ]
    }
   ],
   "source": [
    "answers = example[\"answers\"]\n",
    "start_char = answers[\"answer_start\"][0]\n",
    "end_char = start_char + len(answers[\"text\"][0])\n",
    "\n",
    "# 当前span在文本中的起始标记索引。\n",
    "token_start_index = 0\n",
    "while sequence_ids[token_start_index] != 1:\n",
    "    token_start_index += 1\n",
    "\n",
    "# 当前span在文本中的结束标记索引。\n",
    "token_end_index = len(tokenized_example[\"input_ids\"][0]) - 1\n",
    "while sequence_ids[token_end_index] != 1:\n",
    "    token_end_index -= 1\n",
    "\n",
    "# 检测答案是否超出span范围（如果超出范围，该特征将以CLS标记索引标记）。\n",
    "offsets = tokenized_example[\"offset_mapping\"][0]\n",
    "if (offsets[token_start_index][0] <= start_char and offsets[token_end_index][1] >= end_char):\n",
    "    # 将token_start_index和token_end_index移动到答案的两端。\n",
    "    # 注意：如果答案是最后一个单词，我们可以移到最后一个标记之后（边界情况）。\n",
    "    while token_start_index < len(offsets) and offsets[token_start_index][0] <= start_char:\n",
    "        token_start_index += 1\n",
    "    start_position = token_start_index - 1\n",
    "    while offsets[token_end_index][1] >= end_char:\n",
    "        token_end_index -= 1\n",
    "    end_position = token_end_index + 1\n",
    "    print(start_position, end_position)\n",
    "else:\n",
    "    print(\"答案不在此特征中。\")\n"
   ]
  },
  {
   "cell_type": "markdown",
   "metadata": {},
   "source": [
    "打印检查是否准确找到了起始位置："
   ]
  },
  {
   "cell_type": "code",
   "execution_count": 23,
   "metadata": {},
   "outputs": [
    {
     "name": "stdout",
     "output_type": "stream",
     "text": [
      "jay z\n",
      "Jay Z\n"
     ]
    }
   ],
   "source": [
    "print(tokenizer.decode(tokenized_example[\"input_ids\"][0][start_position: end_position+1]))\n",
    "print(answers[\"text\"][0])"
   ]
  },
  {
   "cell_type": "markdown",
   "metadata": {},
   "source": [
    "#### 关于填充的策略\n",
    "\n",
    "- 对于没有超过最大长度的文本，填充补齐长度。\n",
    "- 对于需要左侧填充的模型，交换 question 和 context 顺序"
   ]
  },
  {
   "cell_type": "code",
   "execution_count": 24,
   "metadata": {},
   "outputs": [],
   "source": [
    "pad_on_right = tokenizer.padding_side == \"right\""
   ]
  },
  {
   "cell_type": "markdown",
   "metadata": {},
   "source": [
    "### 整合以上所有预处理步骤\n",
    "\n",
    "让我们将所有内容整合到一个函数中，并将其应用到训练集。\n",
    "\n",
    "针对不可回答的情况（上下文过长，答案在另一个特征中），我们为开始和结束位置都设置了cls索引。\n",
    "\n",
    "如果allow_impossible_answers标志为False，我们还可以简单地从训练集中丢弃这些示例。"
   ]
  },
  {
   "cell_type": "code",
   "execution_count": 25,
   "metadata": {},
   "outputs": [],
   "source": [
    "def prepare_train_features(examples):\n",
    "    # 一些问题的左侧可能有很多空白字符，这对我们没有用，而且会导致上下文的截断失败\n",
    "    # （标记化的问题将占用大量空间）。因此，我们删除左侧的空白字符。\n",
    "    examples[\"question\"] = [q.lstrip() for q in examples[\"question\"]]\n",
    "\n",
    "    # 使用截断和填充对我们的示例进行标记化，但保留溢出部分，使用步幅（stride）。\n",
    "    # 当上下文很长时，这会导致一个示例可能提供多个特征，其中每个特征的上下文都与前一个特征的上下文有一些重叠。\n",
    "    tokenized_examples = tokenizer(\n",
    "        examples[\"question\" if pad_on_right else \"context\"],\n",
    "        examples[\"context\" if pad_on_right else \"question\"],\n",
    "        truncation=\"only_second\" if pad_on_right else \"only_first\",\n",
    "        max_length=max_length,\n",
    "        stride=doc_stride,\n",
    "        return_overflowing_tokens=True,\n",
    "        return_offsets_mapping=True,\n",
    "        padding=\"max_length\",\n",
    "    )\n",
    "\n",
    "    # 由于一个示例可能给我们提供多个特征（如果它具有很长的上下文），我们需要一个从特征到其对应示例的映射。这个键就提供了这个映射关系。\n",
    "    sample_mapping = tokenized_examples.pop(\"overflow_to_sample_mapping\")\n",
    "    # 偏移映射将为我们提供从令牌到原始上下文中的字符位置的映射。这将帮助我们计算开始位置和结束位置。\n",
    "    offset_mapping = tokenized_examples.pop(\"offset_mapping\")\n",
    "\n",
    "    # 让我们为这些示例进行标记！\n",
    "    tokenized_examples[\"start_positions\"] = []\n",
    "    tokenized_examples[\"end_positions\"] = []\n",
    "\n",
    "    for i, offsets in enumerate(offset_mapping):\n",
    "        # 我们将使用CLS令牌的索引来标记不可能的答案。\n",
    "        input_ids = tokenized_examples[\"input_ids\"][i]\n",
    "        cls_index = input_ids.index(tokenizer.cls_token_id)\n",
    "\n",
    "        # 获取与该示例对应的序列（以了解上下文和问题是什么）。\n",
    "        sequence_ids = tokenized_examples.sequence_ids(i)\n",
    "\n",
    "        # 一个示例可以提供多个跨度，这是包含此文本跨度的示例的索引。\n",
    "        sample_index = sample_mapping[i]\n",
    "        answers = examples[\"answers\"][sample_index]\n",
    "        # 如果没有给出答案，则将cls_index设置为答案。\n",
    "        if len(answers[\"answer_start\"]) == 0:\n",
    "            tokenized_examples[\"start_positions\"].append(cls_index)\n",
    "            tokenized_examples[\"end_positions\"].append(cls_index)\n",
    "        else:\n",
    "            # 答案在文本中的开始和结束字符索引。\n",
    "            start_char = answers[\"answer_start\"][0]\n",
    "            end_char = start_char + len(answers[\"text\"][0])\n",
    "\n",
    "            # 当前跨度在文本中的开始令牌索引。\n",
    "            token_start_index = 0\n",
    "            while sequence_ids[token_start_index] != (1 if pad_on_right else 0):\n",
    "                token_start_index += 1\n",
    "\n",
    "            # 当前跨度在文本中的结束令牌索引。\n",
    "            token_end_index = len(input_ids) - 1\n",
    "            while sequence_ids[token_end_index] != (1 if pad_on_right else 0):\n",
    "                token_end_index -= 1\n",
    "\n",
    "            # 检测答案是否超出跨度（在这种情况下，该特征的标签将使用CLS索引）。\n",
    "            if not (offsets[token_start_index][0] <= start_char and offsets[token_end_index][1] >= end_char):\n",
    "                tokenized_examples[\"start_positions\"].append(cls_index)\n",
    "                tokenized_examples[\"end_positions\"].append(cls_index)\n",
    "            else:\n",
    "                # 否则，将token_start_index和token_end_index移到答案的两端。\n",
    "                # 注意：如果答案是最后一个单词（边缘情况），我们可以在最后一个偏移之后继续。\n",
    "                while token_start_index < len(offsets) and offsets[token_start_index][0] <= start_char:\n",
    "                    token_start_index += 1\n",
    "                tokenized_examples[\"start_positions\"].append(token_start_index - 1)\n",
    "                while offsets[token_end_index][1] >= end_char:\n",
    "                    token_end_index -= 1\n",
    "                tokenized_examples[\"end_positions\"].append(token_end_index + 1)\n",
    "\n",
    "    return tokenized_examples"
   ]
  },
  {
   "cell_type": "markdown",
   "metadata": {
    "id": "zS-6iXTkIrJT"
   },
   "source": [
    "#### datasets.map 的进阶使用\n",
    "\n",
    "使用 `datasets.map` 方法将 `prepare_train_features` 应用于所有训练、验证和测试数据：\n",
    "\n",
    "- batched: 批量处理数据。\n",
    "- remove_columns: 因为预处理更改了样本的数量，所以在应用它时需要删除旧列。\n",
    "- load_from_cache_file：是否使用datasets库的自动缓存\n",
    "\n",
    "datasets 库针对大规模数据，实现了高效缓存机制，能够自动检测传递给 map 的函数是否已更改（因此需要不使用缓存数据）。如果在调用 map 时设置 `load_from_cache_file=False`，可以强制重新应用预处理。"
   ]
  },
  {
   "cell_type": "code",
   "execution_count": 26,
   "metadata": {
    "id": "DDtsaJeVIrJT",
    "outputId": "aa4734bf-4ef5-4437-9948-2c16363da719"
   },
   "outputs": [
    {
     "name": "stderr",
     "output_type": "stream",
     "text": [
      "Map: 100%|██████████| 130319/130319 [00:38<00:00, 3388.66 examples/s]\n",
      "Map: 100%|██████████| 11873/11873 [00:03<00:00, 3463.24 examples/s]\n"
     ]
    }
   ],
   "source": [
    "tokenized_datasets = datasets.map(prepare_train_features,\n",
    "                                  batched=True,\n",
    "                                  remove_columns=datasets[\"train\"].column_names)"
   ]
  },
  {
   "cell_type": "markdown",
   "metadata": {
    "id": "545PP3o8IrJV"
   },
   "source": [
    "## 微调模型"
   ]
  },
  {
   "cell_type": "markdown",
   "metadata": {
    "id": "FBiW8UpKIrJW"
   },
   "source": [
    "现在我们的数据已经准备好用于训练，我们可以下载预训练模型并进行微调。\n",
    "\n",
    "由于我们的任务是问答，我们使用 `AutoModelForQuestionAnswering` 类。(对比 Yelp 评论打分使用的是 `AutoModelForSequenceClassification` 类）\n",
    "\n",
    "警告通知我们正在丢弃一些权重（`vocab_transform` 和 `vocab_layer_norm` 层），并随机初始化其他一些权重（`pre_classifier` 和 `classifier` 层）。在微调模型情况下是绝对正常的，因为我们正在删除用于预训练模型的掩码语言建模任务的头部，并用一个新的头部替换它，对于这个新头部，我们没有预训练的权重，所以库会警告我们在用它进行推理之前应该对这个模型进行微调，而这正是我们要做的事情。"
   ]
  },
  {
   "cell_type": "code",
   "execution_count": 29,
   "metadata": {},
   "outputs": [],
   "source": [
    "import os\n",
    "os.environ[\"CUDA_VISIBLE_DEVICES\"] = \"1\""
   ]
  },
  {
   "cell_type": "code",
   "execution_count": 30,
   "metadata": {
    "id": "TlqNaB8jIrJW",
    "outputId": "84916cf3-6e6c-47f3-d081-032ec30a4132"
   },
   "outputs": [
    {
     "name": "stderr",
     "output_type": "stream",
     "text": [
      "Some weights of DistilBertForQuestionAnswering were not initialized from the model checkpoint at /data/models/llmquickstart/distilbert-base-uncased and are newly initialized: ['qa_outputs.weight', 'qa_outputs.bias']\n",
      "You should probably TRAIN this model on a down-stream task to be able to use it for predictions and inference.\n"
     ]
    }
   ],
   "source": [
    "from transformers import AutoModelForQuestionAnswering, TrainingArguments, Trainer\n",
    "\n",
    "model = AutoModelForQuestionAnswering.from_pretrained(model_checkpoint)"
   ]
  },
  {
   "cell_type": "markdown",
   "metadata": {
    "id": "_N8urzhyIrJY"
   },
   "source": [
    "#### 训练超参数（TrainingArguments）"
   ]
  },
  {
   "cell_type": "code",
   "execution_count": 31,
   "metadata": {},
   "outputs": [
    {
     "name": "stdout",
     "output_type": "stream",
     "text": [
      "distilbert-base-uncased\n"
     ]
    }
   ],
   "source": [
    "model_name = model_checkpoint.split(\"/\")[-1]\n",
    "print(model_name)"
   ]
  },
  {
   "cell_type": "code",
   "execution_count": 32,
   "metadata": {
    "id": "Bliy8zgjIrJY"
   },
   "outputs": [],
   "source": [
    "batch_size=64\n",
    "model_dir = \"models\"\n",
    "\n",
    "args = TrainingArguments(\n",
    "    f\"{model_dir}/{model_name}-finetuned-squad\",\n",
    "    evaluation_strategy = \"epoch\",\n",
    "    learning_rate=2e-5,\n",
    "    per_device_train_batch_size=batch_size,\n",
    "    per_device_eval_batch_size=batch_size,\n",
    "    num_train_epochs=3,\n",
    "    save_total_limit=5,\n",
    "    weight_decay=0.01,\n",
    ")"
   ]
  },
  {
   "cell_type": "markdown",
   "metadata": {},
   "source": [
    "#### Data Collator（数据整理器）\n",
    "\n",
    "数据整理器将训练数据整理为批次数据，用于模型训练时的批次处理。本教程使用默认的 `default_data_collator`。\n"
   ]
  },
  {
   "cell_type": "code",
   "execution_count": 33,
   "metadata": {},
   "outputs": [],
   "source": [
    "from transformers import default_data_collator\n",
    "\n",
    "data_collator = default_data_collator"
   ]
  },
  {
   "cell_type": "markdown",
   "metadata": {
    "id": "rXuFTAzDIrJe"
   },
   "source": [
    "### 实例化训练器（Trainer）\n",
    "\n",
    "为了减少训练时间（需要大量算力支持），我们不在本教程的训练模型过程中计算模型评估指标。\n",
    "\n",
    "而是训练完成后，再独立进行模型评估。"
   ]
  },
  {
   "cell_type": "code",
   "execution_count": 34,
   "metadata": {
    "id": "imY1oC3SIrJf"
   },
   "outputs": [
    {
     "name": "stderr",
     "output_type": "stream",
     "text": [
      "Detected kernel version 5.4.0, which is below the recommended minimum of 5.5.0; this can cause the process to hang. It is recommended to upgrade the kernel to the minimum version or higher.\n"
     ]
    }
   ],
   "source": [
    "trainer = Trainer(\n",
    "    model,\n",
    "    args,\n",
    "    train_dataset=tokenized_datasets[\"train\"],\n",
    "    eval_dataset=tokenized_datasets[\"validation\"],\n",
    "    data_collator=data_collator,\n",
    "    tokenizer=tokenizer,\n",
    ")"
   ]
  },
  {
   "cell_type": "markdown",
   "metadata": {},
   "source": [
    "#### GPU 使用情况\n",
    "\n",
    "训练数据与模型配置：\n",
    "\n",
    "- SQUAD v1.1\n",
    "- model_checkpoint = \"distilbert-base-uncased\"\n",
    "- batch_size = 64\n",
    "\n",
    "NVIDIA GPU 使用情况：\n",
    "\n",
    "```shell\n",
    "Every 1.0s: nvidia-smi                                                   Wed Dec 20 15:39:57 2023\n",
    "\n",
    "Wed Dec 20 15:39:57 2023\n",
    "+---------------------------------------------------------------------------------------+\n",
    "| NVIDIA-SMI 535.129.03             Driver Version: 535.129.03   CUDA Version: 12.2     |\n",
    "|-----------------------------------------+----------------------+----------------------+\n",
    "| GPU  Name                 Persistence-M | Bus-Id        Disp.A | Volatile Uncorr. ECC |\n",
    "| Fan  Temp   Perf          Pwr:Usage/Cap |         Memory-Usage | GPU-Util  Compute M. |\n",
    "|                                         |                      |               MIG M. |\n",
    "|=========================================+======================+======================|\n",
    "|   0  Tesla T4                       Off | 00000000:00:0D.0 Off |                    0 |\n",
    "| N/A   67C    P0              67W /  70W |  14617MiB / 15360MiB |    100%      Default |\n",
    "|                                         |                      |                  N/A |\n",
    "+-----------------------------------------+----------------------+----------------------+\n",
    "\n",
    "+---------------------------------------------------------------------------------------+\n",
    "| Processes:                                                                            |\n",
    "|  GPU   GI   CI        PID   Type   Process name                            GPU Memory |\n",
    "|        ID   ID                                                             Usage      |\n",
    "|=======================================================================================|\n",
    "|    0   N/A  N/A     16384      C   /root/miniconda3/bin/python               14612MiB |\n",
    "+---------------------------------------------------------------------------------------+\n",
    "```"
   ]
  },
  {
   "cell_type": "code",
   "execution_count": 35,
   "metadata": {
    "id": "uNx5pyRlIrJh",
    "outputId": "077e661e-d36c-469b-89b8-7ff7f73541ec"
   },
   "outputs": [
    {
     "data": {
      "text/html": [
       "\n",
       "    <div>\n",
       "      \n",
       "      <progress value='6177' max='6177' style='width:300px; height:20px; vertical-align: middle;'></progress>\n",
       "      [6177/6177 1:45:09, Epoch 3/3]\n",
       "    </div>\n",
       "    <table border=\"1\" class=\"dataframe\">\n",
       "  <thead>\n",
       " <tr style=\"text-align: left;\">\n",
       "      <th>Epoch</th>\n",
       "      <th>Training Loss</th>\n",
       "      <th>Validation Loss</th>\n",
       "    </tr>\n",
       "  </thead>\n",
       "  <tbody>\n",
       "    <tr>\n",
       "      <td>1</td>\n",
       "      <td>1.443600</td>\n",
       "      <td>1.334142</td>\n",
       "    </tr>\n",
       "    <tr>\n",
       "      <td>2</td>\n",
       "      <td>1.181800</td>\n",
       "      <td>1.301505</td>\n",
       "    </tr>\n",
       "    <tr>\n",
       "      <td>3</td>\n",
       "      <td>1.045700</td>\n",
       "      <td>1.319027</td>\n",
       "    </tr>\n",
       "  </tbody>\n",
       "</table><p>"
      ],
      "text/plain": [
       "<IPython.core.display.HTML object>"
      ]
     },
     "metadata": {},
     "output_type": "display_data"
    },
    {
     "data": {
      "text/plain": [
       "TrainOutput(global_step=6177, training_loss=1.3611055028000483, metrics={'train_runtime': 6313.3212, 'train_samples_per_second': 62.608, 'train_steps_per_second': 0.978, 'total_flos': 3.873165421863629e+16, 'train_loss': 1.3611055028000483, 'epoch': 3.0})"
      ]
     },
     "execution_count": 35,
     "metadata": {},
     "output_type": "execute_result"
    }
   ],
   "source": [
    "trainer.train()"
   ]
  },
  {
   "cell_type": "markdown",
   "metadata": {},
   "source": [
    "### 训练完成后，第一时间保存模型权重文件。"
   ]
  },
  {
   "cell_type": "code",
   "execution_count": 36,
   "metadata": {},
   "outputs": [],
   "source": [
    "trained_model_path = f\"{model_dir}/{model_name}-finetuned-squad-trained\""
   ]
  },
  {
   "cell_type": "code",
   "execution_count": 37,
   "metadata": {},
   "outputs": [],
   "source": [
    "model_to_save = trainer.save_model(trained_model_path)"
   ]
  },
  {
   "cell_type": "markdown",
   "metadata": {},
   "source": [
    "## 模型评估"
   ]
  },
  {
   "cell_type": "markdown",
   "metadata": {},
   "source": [
    "**评估模型输出需要一些额外的处理：将模型的预测映射回上下文的部分。**\n",
    "\n",
    "模型直接输出的是预测答案的`起始位置`和`结束位置`的**logits**"
   ]
  },
  {
   "cell_type": "code",
   "execution_count": 38,
   "metadata": {},
   "outputs": [
    {
     "data": {
      "text/plain": [
       "odict_keys(['loss', 'start_logits', 'end_logits'])"
      ]
     },
     "execution_count": 38,
     "metadata": {},
     "output_type": "execute_result"
    }
   ],
   "source": [
    "import torch\n",
    "\n",
    "for batch in trainer.get_eval_dataloader():\n",
    "    break\n",
    "batch = {k: v.to(trainer.args.device) for k, v in batch.items()}\n",
    "with torch.no_grad():\n",
    "    output = trainer.model(**batch)\n",
    "output.keys()"
   ]
  },
  {
   "cell_type": "markdown",
   "metadata": {},
   "source": [
    "模型的输出是一个类似字典的对象，其中包含损失（因为我们提供了标签），以及起始和结束logits。我们不需要损失来进行预测，让我们看一下logits："
   ]
  },
  {
   "cell_type": "code",
   "execution_count": 39,
   "metadata": {},
   "outputs": [
    {
     "data": {
      "text/plain": [
       "(torch.Size([64, 384]), torch.Size([64, 384]))"
      ]
     },
     "execution_count": 39,
     "metadata": {},
     "output_type": "execute_result"
    }
   ],
   "source": [
    "output.start_logits.shape, output.end_logits.shape"
   ]
  },
  {
   "cell_type": "code",
   "execution_count": 40,
   "metadata": {},
   "outputs": [
    {
     "data": {
      "text/plain": [
       "(tensor([ 49,  37,  72,  80, 157,  17,  44,   0, 148, 202, 119,  52,  22,  31,\n",
       "           0, 120,   0,  32,  90,   0,   0,  56,  88,   0,  23,   0,   0, 138,\n",
       "          15,   0, 143,   0,  72,  32,   0,   0,  93,  25,  93, 124,  41,  13,\n",
       "          32,  66,   0,  29,  80,   0,  28,  29,   0,   0, 139,  70,  49,   0,\n",
       "          47,   0,  75,   0,  16,   0,   0,  12], device='cuda:0'),\n",
       " tensor([ 49,  40,  76,  81, 157,  19,  44,   0, 153, 204, 120,  52,  26,  33,\n",
       "           0, 121,   0,  33,  91,   0,   0,  56,  94, 153,  24,   0,   0, 142,\n",
       "          16,  52,   0,   0,  72,   0,   0,   0,  94,  27,  94, 128,  58,  15,\n",
       "          50,  68,   0,  30,  81, 143,  29,  30,   0,  80, 141,  71,  51,   0,\n",
       "          49,   0,  82,  52,  17,   0,   0,  15], device='cuda:0'))"
      ]
     },
     "execution_count": 40,
     "metadata": {},
     "output_type": "execute_result"
    }
   ],
   "source": [
    "output.start_logits.argmax(dim=-1), output.end_logits.argmax(dim=-1)"
   ]
  },
  {
   "cell_type": "markdown",
   "metadata": {},
   "source": [
    "#### 如何从模型输出的位置 logit 组合成答案\n",
    "\n",
    "我们有每个特征和每个标记的logit。在每个特征中为每个标记预测答案最明显的方法是，将起始logits的最大索引作为起始位置，将结束logits的最大索引作为结束位置。\n",
    "\n",
    "在许多情况下这种方式效果很好，但是如果此预测给出了不可能的结果该怎么办？比如：起始位置可能大于结束位置，或者指向问题中的文本片段而不是答案。在这种情况下，我们可能希望查看第二好的预测，看它是否给出了一个可能的答案，并选择它。\n",
    "\n",
    "选择第二好的答案并不像选择最佳答案那么容易：\n",
    "- 它是起始logits中第二佳索引与结束logits中最佳索引吗？\n",
    "- 还是起始logits中最佳索引与结束logits中第二佳索引？\n",
    "- 如果第二好的答案也不可能，那么对于第三好的答案，情况会更加棘手。\n",
    "\n",
    "为了对答案进行分类，\n",
    "1. 将使用通过添加起始和结束logits获得的分数\n",
    "1. 设计一个名为`n_best_size`的超参数，限制不对所有可能的答案进行排序。\n",
    "1. 我们将选择起始和结束logits中的最佳索引，并收集这些预测的所有答案。\n",
    "1. 在检查每一个是否有效后，我们将按照其分数对它们进行排序，并保留最佳的答案。\n",
    "\n",
    "以下是我们如何在批次中的第一个特征上执行此操作的示例："
   ]
  },
  {
   "cell_type": "code",
   "execution_count": 41,
   "metadata": {},
   "outputs": [],
   "source": [
    "n_best_size = 20"
   ]
  },
  {
   "cell_type": "code",
   "execution_count": 42,
   "metadata": {},
   "outputs": [],
   "source": [
    "import numpy as np\n",
    "\n",
    "start_logits = output.start_logits[0].cpu().numpy()\n",
    "end_logits = output.end_logits[0].cpu().numpy()\n",
    "\n",
    "# 获取最佳的起始和结束位置的索引：\n",
    "start_indexes = np.argsort(start_logits)[-1 : -n_best_size - 1 : -1].tolist()\n",
    "end_indexes = np.argsort(end_logits)[-1 : -n_best_size - 1 : -1].tolist()\n",
    "\n",
    "valid_answers = []\n",
    "\n",
    "# 遍历起始位置和结束位置的索引组合\n",
    "for start_index in start_indexes:\n",
    "    for end_index in end_indexes:\n",
    "        if start_index <= end_index:  # 需要进一步测试以检查答案是否在上下文中\n",
    "            valid_answers.append(\n",
    "                {\n",
    "                    \"score\": start_logits[start_index] + end_logits[end_index],\n",
    "                    \"text\": \"\"  # 我们需要找到一种方法来获取与上下文中答案对应的原始子字符串\n",
    "                }\n",
    "            )\n"
   ]
  },
  {
   "cell_type": "markdown",
   "metadata": {},
   "source": [
    "\n",
    "然后，我们可以根据它们的得分对`valid_answers`进行排序，并仅保留最佳答案。唯一剩下的问题是如何检查给定的跨度是否在上下文中（而不是问题中），以及如何获取其中的文本。为此，我们需要向我们的验证特征添加两个内容：\n",
    "\n",
    "- 生成该特征的示例的ID（因为每个示例可以生成多个特征，如前所示）；\n",
    "- 偏移映射，它将为我们提供从标记索引到上下文中字符位置的映射。\n",
    "\n",
    "这就是为什么我们将使用以下函数稍微不同于`prepare_train_features`来重新处理验证集："
   ]
  },
  {
   "cell_type": "code",
   "execution_count": 43,
   "metadata": {},
   "outputs": [],
   "source": [
    "def prepare_validation_features(examples):\n",
    "    # 一些问题的左侧有很多空白，这些空白并不有用且会导致上下文截断失败（分词后的问题会占用很多空间）。\n",
    "    # 因此我们移除这些左侧空白\n",
    "    examples[\"question\"] = [q.lstrip() for q in examples[\"question\"]]\n",
    "\n",
    "    # 使用截断和可能的填充对我们的示例进行分词，但使用步长保留溢出的令牌。这导致一个长上下文的示例可能产生\n",
    "    # 几个特征，每个特征的上下文都会稍微与前一个特征的上下文重叠。\n",
    "    tokenized_examples = tokenizer(\n",
    "        examples[\"question\" if pad_on_right else \"context\"],\n",
    "        examples[\"context\" if pad_on_right else \"question\"],\n",
    "        truncation=\"only_second\" if pad_on_right else \"only_first\",\n",
    "        max_length=max_length,\n",
    "        stride=doc_stride,\n",
    "        return_overflowing_tokens=True,\n",
    "        return_offsets_mapping=True,\n",
    "        padding=\"max_length\",\n",
    "    )\n",
    "\n",
    "    # 由于一个示例在上下文很长时可能会产生几个特征，我们需要一个从特征映射到其对应示例的映射。这个键就是为了这个目的。\n",
    "    sample_mapping = tokenized_examples.pop(\"overflow_to_sample_mapping\")\n",
    "\n",
    "    # 我们保留产生这个特征的示例ID，并且会存储偏移映射。\n",
    "    tokenized_examples[\"example_id\"] = []\n",
    "\n",
    "    for i in range(len(tokenized_examples[\"input_ids\"])):\n",
    "        # 获取与该示例对应的序列（以了解哪些是上下文，哪些是问题）。\n",
    "        sequence_ids = tokenized_examples.sequence_ids(i)\n",
    "        context_index = 1 if pad_on_right else 0\n",
    "\n",
    "        # 一个示例可以产生几个文本段，这里是包含该文本段的示例的索引。\n",
    "        sample_index = sample_mapping[i]\n",
    "        tokenized_examples[\"example_id\"].append(examples[\"id\"][sample_index])\n",
    "\n",
    "        # 将不属于上下文的偏移映射设置为None，以便容易确定一个令牌位置是否属于上下文。\n",
    "        tokenized_examples[\"offset_mapping\"][i] = [\n",
    "            (o if sequence_ids[k] == context_index else None)\n",
    "            for k, o in enumerate(tokenized_examples[\"offset_mapping\"][i])\n",
    "        ]\n",
    "\n",
    "    return tokenized_examples\n"
   ]
  },
  {
   "cell_type": "markdown",
   "metadata": {},
   "source": [
    "将`prepare_validation_features`应用到整个验证集："
   ]
  },
  {
   "cell_type": "code",
   "execution_count": 44,
   "metadata": {},
   "outputs": [
    {
     "name": "stderr",
     "output_type": "stream",
     "text": [
      "Map: 100%|██████████| 11873/11873 [00:04<00:00, 2538.93 examples/s]\n"
     ]
    }
   ],
   "source": [
    "validation_features = datasets[\"validation\"].map(\n",
    "    prepare_validation_features,\n",
    "    batched=True,\n",
    "    remove_columns=datasets[\"validation\"].column_names\n",
    ")"
   ]
  },
  {
   "cell_type": "markdown",
   "metadata": {},
   "source": [
    "Now we can grab the predictions for all features by using the `Trainer.predict` method:"
   ]
  },
  {
   "cell_type": "code",
   "execution_count": 45,
   "metadata": {},
   "outputs": [
    {
     "data": {
      "text/html": [],
      "text/plain": [
       "<IPython.core.display.HTML object>"
      ]
     },
     "metadata": {},
     "output_type": "display_data"
    }
   ],
   "source": [
    "raw_predictions = trainer.predict(validation_features)"
   ]
  },
  {
   "cell_type": "markdown",
   "metadata": {},
   "source": [
    "`Trainer`会隐藏模型不使用的列（在这里是`example_id`和`offset_mapping`，我们需要它们进行后处理），所以我们需要将它们重新设置回来："
   ]
  },
  {
   "cell_type": "code",
   "execution_count": 46,
   "metadata": {},
   "outputs": [],
   "source": [
    "validation_features.set_format(type=validation_features.format[\"type\"], columns=list(validation_features.features.keys()))"
   ]
  },
  {
   "cell_type": "markdown",
   "metadata": {},
   "source": [
    "现在，我们可以改进之前的测试：\n",
    "\n",
    "由于在偏移映射中，当它对应于问题的一部分时，我们将其设置为None，因此可以轻松检查答案是否完全在上下文中。我们还可以从考虑中排除非常长的答案（可以调整的超参数）。\n",
    "\n",
    "展开说下具体实现：\n",
    "- 首先从模型输出中获取起始和结束的逻辑值（logits），这些值表明答案在文本中可能开始和结束的位置。\n",
    "- 然后，它使用偏移映射（offset_mapping）来找到这些逻辑值在原始文本中的具体位置。\n",
    "- 接下来，代码遍历可能的开始和结束索引组合，排除那些不在上下文范围内或长度不合适的答案。\n",
    "- 对于有效的答案，它计算出一个分数（基于开始和结束逻辑值的和），并将答案及其分数存储起来。\n",
    "- 最后，它根据分数对答案进行排序，并返回得分最高的几个答案。"
   ]
  },
  {
   "cell_type": "code",
   "execution_count": 47,
   "metadata": {},
   "outputs": [],
   "source": [
    "max_answer_length = 30"
   ]
  },
  {
   "cell_type": "code",
   "execution_count": 48,
   "metadata": {},
   "outputs": [
    {
     "data": {
      "text/plain": [
       "[{'score': 13.289998, 'text': 'France'},\n",
       " {'score': 7.823643, 'text': 'France.'},\n",
       " {'score': 7.121161,\n",
       "  'text': 'France. They were descended from Norse (\"Norman\" comes from \"Norseman\") raiders and pirates from Denmark, Iceland and Norway'},\n",
       " {'score': 6.101104,\n",
       "  'text': 'France. They were descended from Norse (\"Norman\" comes from \"Norseman\") raiders and pirates from Denmark'},\n",
       " {'score': 5.5436497, 'text': 'a region in France'},\n",
       " {'score': 5.3640714,\n",
       "  'text': 'France. They were descended from Norse (\"Norman\" comes from \"Norseman\") raiders and pirates from Denmark, Iceland'},\n",
       " {'score': 5.0757666, 'text': 'in France'},\n",
       " {'score': 3.757802, 'text': 'region in France'},\n",
       " {'score': 3.6190426,\n",
       "  'text': 'French: Normands; Latin: Normanni) were the people who in the 10th and 11th centuries gave their name to Normandy, a region in France'},\n",
       " {'score': 2.8101244,\n",
       "  'text': '10th and 11th centuries gave their name to Normandy, a region in France'},\n",
       " {'score': 2.6871915, 'text': 'Normandy, a region in France'},\n",
       " {'score': 2.493699,\n",
       "  'text': 'Normands; Latin: Normanni) were the people who in the 10th and 11th centuries gave their name to Normandy, a region in France'},\n",
       " {'score': 2.316544,\n",
       "  'text': 'Normanni) were the people who in the 10th and 11th centuries gave their name to Normandy, a region in France'},\n",
       " {'score': 2.0240793, 'text': 'France. They were descended from Norse'},\n",
       " {'score': 2.0099673,\n",
       "  'text': 'France. They were descended from Norse (\"Norman\" comes from \"Norseman\") raiders and pirates'},\n",
       " {'score': 0.077294946, 'text': 'a region in France.'},\n",
       " {'score': 0.05067581, 'text': 'Denmark, Iceland and Norway'},\n",
       " {'score': -0.39058828, 'text': 'in France.'},\n",
       " {'score': -0.5102416, 'text': 'Iceland and Norway'},\n",
       " {'score': -0.62518704,\n",
       "  'text': 'a region in France. They were descended from Norse (\"Norman\" comes from \"Norseman\") raiders and pirates from Denmark, Iceland and Norway'}]"
      ]
     },
     "execution_count": 48,
     "metadata": {},
     "output_type": "execute_result"
    }
   ],
   "source": [
    "start_logits = output.start_logits[0].cpu().numpy()\n",
    "end_logits = output.end_logits[0].cpu().numpy()\n",
    "offset_mapping = validation_features[0][\"offset_mapping\"]\n",
    "\n",
    "# 第一个特征来自第一个示例。对于更一般的情况，我们需要将example_id匹配到一个示例索引\n",
    "context = datasets[\"validation\"][0][\"context\"]\n",
    "\n",
    "# 收集最佳开始/结束逻辑的索引：\n",
    "start_indexes = np.argsort(start_logits)[-1 : -n_best_size - 1 : -1].tolist()\n",
    "end_indexes = np.argsort(end_logits)[-1 : -n_best_size - 1 : -1].tolist()\n",
    "valid_answers = []\n",
    "for start_index in start_indexes:\n",
    "    for end_index in end_indexes:\n",
    "        # 不考虑超出范围的答案，原因是索引超出范围或对应于输入ID的部分不在上下文中。\n",
    "        if (\n",
    "            start_index >= len(offset_mapping)\n",
    "            or end_index >= len(offset_mapping)\n",
    "            or offset_mapping[start_index] is None\n",
    "            or offset_mapping[end_index] is None\n",
    "        ):\n",
    "            continue\n",
    "        # 不考虑长度小于0或大于max_answer_length的答案。\n",
    "        if end_index < start_index or end_index - start_index + 1 > max_answer_length:\n",
    "            continue\n",
    "        if start_index <= end_index: # 我们需要细化这个测试，以检查答案是否在上下文中\n",
    "            start_char = offset_mapping[start_index][0]\n",
    "            end_char = offset_mapping[end_index][1]\n",
    "            valid_answers.append(\n",
    "                {\n",
    "                    \"score\": start_logits[start_index] + end_logits[end_index],\n",
    "                    \"text\": context[start_char: end_char]\n",
    "                }\n",
    "            )\n",
    "\n",
    "valid_answers = sorted(valid_answers, key=lambda x: x[\"score\"], reverse=True)[:n_best_size]\n",
    "valid_answers\n"
   ]
  },
  {
   "cell_type": "markdown",
   "metadata": {},
   "source": [
    "打印比较模型输出和标准答案（Ground-truth）是否一致:"
   ]
  },
  {
   "cell_type": "code",
   "execution_count": 49,
   "metadata": {},
   "outputs": [
    {
     "data": {
      "text/plain": [
       "{'text': ['France', 'France', 'France', 'France'],\n",
       " 'answer_start': [159, 159, 159, 159]}"
      ]
     },
     "execution_count": 49,
     "metadata": {},
     "output_type": "execute_result"
    }
   ],
   "source": [
    "datasets[\"validation\"][0][\"answers\"]"
   ]
  },
  {
   "cell_type": "markdown",
   "metadata": {},
   "source": [
    "**模型最高概率的输出与标准答案一致**\n",
    "\n",
    "正如上面的代码所示，这在第一个特征上很容易，因为我们知道它来自第一个示例。\n",
    "\n",
    "对于其他特征，我们需要建立一个示例与其对应特征的映射关系。\n",
    "\n",
    "此外，由于一个示例可以生成多个特征，我们需要将由给定示例生成的所有特征中的所有答案汇集在一起，然后选择最佳答案。\n",
    "\n",
    "下面的代码构建了一个示例索引到其对应特征索引的映射关系："
   ]
  },
  {
   "cell_type": "code",
   "execution_count": 50,
   "metadata": {},
   "outputs": [],
   "source": [
    "import collections\n",
    "\n",
    "examples = datasets[\"validation\"]\n",
    "features = validation_features\n",
    "\n",
    "example_id_to_index = {k: i for i, k in enumerate(examples[\"id\"])}\n",
    "features_per_example = collections.defaultdict(list)\n",
    "for i, feature in enumerate(features):\n",
    "    features_per_example[example_id_to_index[feature[\"example_id\"]]].append(i)"
   ]
  },
  {
   "cell_type": "markdown",
   "metadata": {},
   "source": [
    "当`squad_v2 = True`时，有一定概率出现不可能的答案（impossible answer)。\n",
    "\n",
    "上面的代码仅保留在上下文中的答案，我们还需要获取不可能答案的分数（其起始和结束索引对应于CLS标记的索引）。\n",
    "\n",
    "当一个示例生成多个特征时，我们必须在所有特征中的不可能答案都预测出现不可能答案时（因为一个特征可能之所以能够预测出不可能答案，是因为答案不在它可以访问的上下文部分），这就是为什么一个示例中不可能答案的分数是该示例生成的每个特征中的不可能答案的分数的最小值。"
   ]
  },
  {
   "cell_type": "code",
   "execution_count": 51,
   "metadata": {},
   "outputs": [],
   "source": [
    "from tqdm.auto import tqdm\n",
    "\n",
    "def postprocess_qa_predictions(examples, features, raw_predictions, n_best_size = 20, max_answer_length = 30):\n",
    "    all_start_logits, all_end_logits = raw_predictions\n",
    "    # 构建一个从示例到其对应特征的映射。\n",
    "    example_id_to_index = {k: i for i, k in enumerate(examples[\"id\"])}\n",
    "    features_per_example = collections.defaultdict(list)\n",
    "    for i, feature in enumerate(features):\n",
    "        features_per_example[example_id_to_index[feature[\"example_id\"]]].append(i)\n",
    "\n",
    "    # 我们需要填充的字典。\n",
    "    predictions = collections.OrderedDict()\n",
    "\n",
    "    # 日志记录。\n",
    "    print(f\"正在后处理 {len(examples)} 个示例的预测，这些预测分散在 {len(features)} 个特征中。\")\n",
    "\n",
    "    # 遍历所有示例！\n",
    "    for example_index, example in enumerate(tqdm(examples)):\n",
    "        # 这些是与当前示例关联的特征的索引。\n",
    "        feature_indices = features_per_example[example_index]\n",
    "\n",
    "        min_null_score = None # 仅在squad_v2为True时使用。\n",
    "        valid_answers = []\n",
    "        \n",
    "        context = example[\"context\"]\n",
    "        # 遍历与当前示例关联的所有特征。\n",
    "        for feature_index in feature_indices:\n",
    "            # 我们获取模型对这个特征的预测。\n",
    "            start_logits = all_start_logits[feature_index]\n",
    "            end_logits = all_end_logits[feature_index]\n",
    "            # 这将允许我们将logits中的某些位置映射到原始上下文中的文本跨度。\n",
    "            offset_mapping = features[feature_index][\"offset_mapping\"]\n",
    "\n",
    "            # 更新最小空预测。\n",
    "            cls_index = features[feature_index][\"input_ids\"].index(tokenizer.cls_token_id)\n",
    "            feature_null_score = start_logits[cls_index] + end_logits[cls_index]\n",
    "            if min_null_score is None or min_null_score < feature_null_score:\n",
    "                min_null_score = feature_null_score\n",
    "\n",
    "            # 浏览所有的最佳开始和结束logits，为 `n_best_size` 个最佳选择。\n",
    "            start_indexes = np.argsort(start_logits)[-1 : -n_best_size - 1 : -1].tolist()\n",
    "            end_indexes = np.argsort(end_logits)[-1 : -n_best_size - 1 : -1].tolist()\n",
    "            for start_index in start_indexes:\n",
    "                for end_index in end_indexes:\n",
    "                    # 不考虑超出范围的答案，原因是索引超出范围或对应于输入ID的部分不在上下文中。\n",
    "                    if (\n",
    "                        start_index >= len(offset_mapping)\n",
    "                        or end_index >= len(offset_mapping)\n",
    "                        or offset_mapping[start_index] is None\n",
    "                        or offset_mapping[end_index] is None\n",
    "                    ):\n",
    "                        continue\n",
    "                    # 不考虑长度小于0或大于max_answer_length的答案。\n",
    "                    if end_index < start_index or end_index - start_index + 1 > max_answer_length:\n",
    "                        continue\n",
    "\n",
    "                    start_char = offset_mapping[start_index][0]\n",
    "                    end_char = offset_mapping[end_index][1]\n",
    "                    valid_answers.append(\n",
    "                        {\n",
    "                            \"score\": start_logits[start_index] + end_logits[end_index],\n",
    "                            \"text\": context[start_char: end_char]\n",
    "                        }\n",
    "                    )\n",
    "        \n",
    "        if len(valid_answers) > 0:\n",
    "            best_answer = sorted(valid_answers, key=lambda x: x[\"score\"], reverse=True)[0]\n",
    "        else:\n",
    "            # 在极少数情况下我们没有一个非空预测，我们创建一个假预测以避免失败。\n",
    "            best_answer = {\"text\": \"\", \"score\": 0.0}\n",
    "        \n",
    "        # 选择我们的最终答案：最佳答案或空答案（仅适用于squad_v2）\n",
    "        if not squad_v2:\n",
    "            predictions[example[\"id\"]] = best_answer[\"text\"]\n",
    "        else:\n",
    "            answer = best_answer[\"text\"] if best_answer[\"score\"] > min_null_score else \"\"\n",
    "            predictions[example[\"id\"]] = answer\n",
    "\n",
    "    return predictions\n"
   ]
  },
  {
   "cell_type": "markdown",
   "metadata": {},
   "source": [
    "在原始结果上应用后处理问答结果："
   ]
  },
  {
   "cell_type": "code",
   "execution_count": 52,
   "metadata": {},
   "outputs": [
    {
     "name": "stdout",
     "output_type": "stream",
     "text": [
      "正在后处理 11873 个示例的预测，这些预测分散在 12134 个特征中。\n"
     ]
    },
    {
     "name": "stderr",
     "output_type": "stream",
     "text": [
      "100%|██████████| 11873/11873 [00:28<00:00, 413.83it/s]\n"
     ]
    }
   ],
   "source": [
    "final_predictions = postprocess_qa_predictions(datasets[\"validation\"], validation_features, raw_predictions.predictions)"
   ]
  },
  {
   "cell_type": "markdown",
   "metadata": {},
   "source": [
    "使用 `datasets.load_metric` 中加载 `SQuAD v2` 的评估指标"
   ]
  },
  {
   "cell_type": "code",
   "execution_count": 53,
   "metadata": {},
   "outputs": [
    {
     "name": "stderr",
     "output_type": "stream",
     "text": [
      "/tmp/ipykernel_2616471/2330875496.py:3: FutureWarning: load_metric is deprecated and will be removed in the next major version of datasets. Use 'evaluate.load' instead, from the new library 🤗 Evaluate: https://huggingface.co/docs/evaluate\n",
      "  metric = load_metric(\"squad_v2\" if squad_v2 else \"squad\")\n",
      "Downloading builder script: 6.46kB [00:00, 40.2kB/s]                            \n",
      "Downloading extra modules: 11.3kB [00:00, 5.13MB/s]                   \n"
     ]
    }
   ],
   "source": [
    "from datasets import load_metric\n",
    "\n",
    "metric = load_metric(\"squad_v2\" if squad_v2 else \"squad\")"
   ]
  },
  {
   "cell_type": "markdown",
   "metadata": {},
   "source": [
    "接下来，我们可以调用上面定义的函数进行评估。\n",
    "\n",
    "只需稍微调整一下预测和标签的格式，因为它期望的是一系列字典而不是一个大字典。\n",
    "\n",
    "在使用`squad_v2`数据集时，我们还需要设置`no_answer_probability`参数（我们在这里将其设置为0.0，因为如果我们选择了答案，我们已经将答案设置为空）。"
   ]
  },
  {
   "cell_type": "code",
   "execution_count": 54,
   "metadata": {},
   "outputs": [
    {
     "data": {
      "text/plain": [
       "{'exact': 61.36612482102249,\n",
       " 'f1': 64.8963897743493,\n",
       " 'total': 11873,\n",
       " 'HasAns_exact': 62.92172739541161,\n",
       " 'HasAns_f1': 69.99238120628341,\n",
       " 'HasAns_total': 5928,\n",
       " 'NoAns_exact': 59.81497056349874,\n",
       " 'NoAns_f1': 59.81497056349874,\n",
       " 'NoAns_total': 5945,\n",
       " 'best_exact': 61.38296976332856,\n",
       " 'best_exact_thresh': 0.0,\n",
       " 'best_f1': 64.90521331555752,\n",
       " 'best_f1_thresh': 0.0}"
      ]
     },
     "execution_count": 54,
     "metadata": {},
     "output_type": "execute_result"
    }
   ],
   "source": [
    "if squad_v2:\n",
    "    formatted_predictions = [{\"id\": k, \"prediction_text\": v, \"no_answer_probability\": 0.0} for k, v in final_predictions.items()]\n",
    "else:\n",
    "    formatted_predictions = [{\"id\": k, \"prediction_text\": v} for k, v in final_predictions.items()]\n",
    "references = [{\"id\": ex[\"id\"], \"answers\": ex[\"answers\"]} for ex in datasets[\"validation\"]]\n",
    "metric.compute(predictions=formatted_predictions, references=references)"
   ]
  },
  {
   "cell_type": "code",
   "execution_count": null,
   "metadata": {},
   "outputs": [],
   "source": []
  },
  {
   "cell_type": "markdown",
   "metadata": {},
   "source": [
    "### Homework：加载本地保存的模型，进行评估和再训练更高的 F1 Score"
   ]
  },
  {
   "cell_type": "code",
   "execution_count": 50,
   "metadata": {},
   "outputs": [],
   "source": [
    "trained_model = AutoModelForQuestionAnswering.from_pretrained(trained_model_path)"
   ]
  },
  {
   "cell_type": "code",
   "execution_count": 51,
   "metadata": {},
   "outputs": [
    {
     "name": "stderr",
     "output_type": "stream",
     "text": [
      "Detected kernel version 4.4.0, which is below the recommended minimum of 5.5.0; this can cause the process to hang. It is recommended to upgrade the kernel to the minimum version or higher.\n"
     ]
    }
   ],
   "source": [
    "trained_trainer = Trainer(\n",
    "    trained_model,\n",
    "    args,\n",
    "    train_dataset=tokenized_datasets[\"train\"],\n",
    "    eval_dataset=tokenized_datasets[\"validation\"],\n",
    "    data_collator=data_collator,\n",
    "    tokenizer=tokenizer,\n",
    ")"
   ]
  },
  {
   "cell_type": "code",
   "execution_count": null,
   "metadata": {},
   "outputs": [],
   "source": []
  }
 ],
 "metadata": {
  "colab": {
   "name": "Question Answering on SQUAD",
   "provenance": []
  },
  "kernelspec": {
   "display_name": "Python 3 (ipykernel)",
   "language": "python",
   "name": "python3"
  },
  "language_info": {
   "codemirror_mode": {
    "name": "ipython",
    "version": 3
   },
   "file_extension": ".py",
   "mimetype": "text/x-python",
   "name": "python",
   "nbconvert_exporter": "python",
   "pygments_lexer": "ipython3",
   "version": "3.10.13"
  }
 },
 "nbformat": 4,
 "nbformat_minor": 4
}
